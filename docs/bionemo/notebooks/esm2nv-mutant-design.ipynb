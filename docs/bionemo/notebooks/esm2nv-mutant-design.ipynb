{
 "cells": [
  {
   "cell_type": "markdown",
   "id": "eae5c045-bec3-437f-a4e5-b5c39743d5bf",
   "metadata": {},
   "source": [
    "# Zero-Shot Protein Design Using ESM-2nv"
   ]
  },
  {
   "cell_type": "markdown",
   "id": "35872df2-36bb-4168-be18-a15f60eed857",
   "metadata": {
    "tags": []
   },
   "source": [
    "*We thank Adrian Lange from A-Alpha Bio for originally contributing this recipe. This notebook has since been modified by NVIDIA.*"
   ]
  },
  {
   "cell_type": "markdown",
   "id": "0b486fce-31a7-4fce-a7dc-fbe57713ceb3",
   "metadata": {
    "tags": []
   },
   "source": [
    "<div class=\"alert alert-block alert-info\"> <b>NOTE</b> Note: This notebook has been tested on a single A100, and is compatible with BioNeMo Framework v1.7 and v1.8. The expected runtime is ~3 minutes on an A100, and less than 1 hour on an A1000.</div>"
   ]
  },
  {
   "cell_type": "markdown",
   "id": "dfd448e3-272a-4147-b3ad-af58b53c83d7",
   "metadata": {},
   "source": [
    "## Demo Objectives"
   ]
  },
  {
   "cell_type": "markdown",
   "id": "9277c38c-2827-419b-9512-ddd64087a4e0",
   "metadata": {},
   "source": [
    "1. **ESM-2nv Inference Functionality**\n",
    "    * Objective: Perform inference on the pre-trained ESM-2nv model.\n",
    "    * Steps: Download model checkpoints, instantiate an inference object, and generate hidden state representations and sequence embeddings from input protein sequences.\n",
    "2. **Logit and Probability Extraction**\n",
    "    * Objective: Obtain probability values of all possible tokens at each position in the amino acid sequence.\n",
    "    * Steps: Access the BERT language model head, generate logits from hidden states, and transform them into probabilities.\n",
    "3. **Protein Mutant Design**\n",
    "    * Objective: Optimize an input protein sequence to align it more closely with naturally occurring protein variants.\n",
    "    * Steps: Sequentially mask amino acids, extract per-position probabilities (and create a heatmap), analyze positions where single-point mutants have higher likelihood than wild-type, and develop new candidates."
   ]
  },
  {
   "cell_type": "markdown",
   "id": "e0d4987f-b76c-4978-aef3-2ef1685d1b6a",
   "metadata": {},
   "source": [
    "## Background"
   ]
  },
  {
   "cell_type": "markdown",
   "id": "3bd0f2dd-816a-4025-98e1-71ac53797091",
   "metadata": {},
   "source": [
    "ESM-2nv is a large-scale protein language model (PLM) trained on millions of protein sequences. It can capture complex patterns and relationships in protein sequences, allowing it to be used to predict likely amino acid substitutions at different positions. By leveraging ESM-2nv's masked language modeling (MLM) capabilities, we can identify potential mutations that may enhance a protein's properties or align it more closely with naturally occurring variants. ESM-2nv has 650M and 3B parameter versions - for this demo, we will be using ESM-2nv 3B."
   ]
  },
  {
   "cell_type": "markdown",
   "id": "07432049-5633-42eb-8f36-9af805babf11",
   "metadata": {
    "tags": []
   },
   "source": [
    "## Setup"
   ]
  },
  {
   "cell_type": "markdown",
   "id": "dd6bed85-787b-4456-8426-55194da94852",
   "metadata": {},
   "source": [
    "Ensure you have read through the [Getting Started](https://docs.nvidia.com/bionemo-framework/latest/#) section, can run the BioNeMo Framework docker container, and have configured the NGC Command Line Interface (CLI) within the container. It is assumed that this notebook is being executed from within the container. Additionally, this tutorial depends on the [ESM-2nv](https://docs.nvidia.com/bionemo-framework/latest/models/esm2-nv.html) model."
   ]
  },
  {
   "cell_type": "markdown",
   "id": "408fae95-4769-4282-8731-0c83084c9390",
   "metadata": {},
   "source": [
    "<div class=\"alert alert-block alert-info\"> <b>NOTE</b> Some of the cells below generate long text output. We're using <pre>%%capture --no-display --no-stderr cell_output</pre> to suppress this output. Comment or delete this line in the cells below to restore full output.</div>"
   ]
  },
  {
   "cell_type": "markdown",
   "id": "a9e2eeed-89f1-4aed-b472-ec78065930d3",
   "metadata": {},
   "source": [
    "### Import Required Libraries"
   ]
  },
  {
   "cell_type": "code",
   "execution_count": 1,
   "id": "f2e561ce-d169-4846-bb09-d41b4b2898b5",
   "metadata": {
    "tags": []
   },
   "outputs": [],
   "source": [
    "%%capture --no-display --no-stderr cell_output\n",
    "\n",
    "import os\n",
    "\n",
    "from bionemo.utils.hydra import load_model_config\n",
    "from bionemo.model.protein.esm1nv.infer import ESM1nvInference\n",
    "\n",
    "import torch\n",
    "import numpy as np\n",
    "import pandas as pd\n",
    "import matplotlib.pyplot as plt\n",
    "\n",
    "import warnings\n",
    "warnings.filterwarnings('ignore')\n",
    "warnings.simplefilter('ignore')"
   ]
  },
  {
   "cell_type": "markdown",
   "id": "167e1d9f-58a2-4ca0-b38a-793fb145a9a8",
   "metadata": {},
   "source": [
    "### Home Directory"
   ]
  },
  {
   "cell_type": "markdown",
   "id": "0049fde9-4c08-4919-ad04-a6b2c3bbf054",
   "metadata": {},
   "source": [
    "Set the home directory as follows:"
   ]
  },
  {
   "cell_type": "code",
   "execution_count": 2,
   "id": "799268c4-38bf-49ce-95bb-e6b935465928",
   "metadata": {
    "tags": []
   },
   "outputs": [],
   "source": [
    "bionemo_home = \"/workspace/bionemo\"\n",
    "os.environ['BIONEMO_HOME'] = bionemo_home\n",
    "os.chdir(bionemo_home)"
   ]
  },
  {
   "cell_type": "markdown",
   "id": "f1933690-cbc5-46f5-9724-57f6a7a51ab3",
   "metadata": {},
   "source": [
    "### Download Model Checkpoints"
   ]
  },
  {
   "cell_type": "markdown",
   "id": "a052bbcb-e870-4564-b850-528cb892cbe7",
   "metadata": {},
   "source": [
    "The following code will download the pre-trained model, `esm2nv_3B_converted.nemo`, from the NGC registry:"
   ]
  },
  {
   "cell_type": "code",
   "execution_count": 3,
   "id": "e6217e5c-1326-486c-8a7b-65609d9d73b1",
   "metadata": {
    "tags": []
   },
   "outputs": [],
   "source": [
    "# Define the NGC CLI API KEY and ORG for the model download\n",
    "# If these variables are not already set in the container, uncomment below to define and set API KEY and ORG\n",
    "# api_key = <YOUR_API_KEY>\n",
    "# ngc_cli_org = <YOUR_ORG>\n",
    "# Update the environment variable\n",
    "# os.environ['NGC_CLI_API_KEY'] = api_key\n",
    "# os.environ['NGC_CLI_ORG'] = ngc_cli_org\n",
    "\n",
    "# Set variables and paths for model and checkpoint\n",
    "model_name = \"esm2nv\"\n",
    "model_version = \"esm2nv_3b\" # for ESM-2nv 650M, write \"esm2nv_650m\"\n",
    "actual_checkpoint_name = \"esm2nv_3B_converted.nemo\" # for ESM-2nv 650M, write \"esm2nv_650M_converted.nemo\"\n",
    "model_path = os.path.join(bionemo_home, 'models')\n",
    "checkpoint_path = os.path.join(model_path, actual_checkpoint_name)\n",
    "config_path = os.path.join(bionemo_home, f'examples/protein/{model_name}/conf')\n",
    "os.environ['MODEL_PATH'] = model_path"
   ]
  },
  {
   "cell_type": "code",
   "execution_count": 4,
   "id": "8a390cd6-a67c-491e-a081-5b81d4d74e04",
   "metadata": {
    "tags": []
   },
   "outputs": [],
   "source": [
    "%%capture --no-display --no-stderr cell_output\n",
    "\n",
    "if not os.path.exists(checkpoint_path):\n",
    "    !python download_artifacts.py --model_dir ${BIONEMO_HOME}/models --models esm2nv_3b\n",
    "else:\n",
    "    print(f\"Model {model_version} already exists at {model_path}.\")"
   ]
  },
  {
   "cell_type": "markdown",
   "id": "fac3d92c-2f63-45ab-be97-7030107760e7",
   "metadata": {},
   "source": [
    "## ESM-2nv Inference"
   ]
  },
  {
   "cell_type": "markdown",
   "id": "12a9c623-8e76-4936-b58a-72d4504b201c",
   "metadata": {},
   "source": [
    "In this section, we will explore the key inference functionalities of the pre-trained model."
   ]
  },
  {
   "cell_type": "markdown",
   "id": "961b69b4-ccfb-462c-8e19-14d618848cba",
   "metadata": {},
   "source": [
    "### Load Configurations"
   ]
  },
  {
   "cell_type": "markdown",
   "id": "298afb18-d0f4-455e-97ca-d6747cc15151",
   "metadata": {},
   "source": [
    "Here, we initiate an inferer of class `ESM1nvInference` (note that ESM-1nv and ESM-2nv share an inference class) and point it to a YAML file with base configurations for ESM-2nv inference. Some key configurations include:\n",
    "* The desired checkpoints path (`esm2nv_3B_converted.nemo`)\n",
    "* The HuggingFace tokenizer (`facebook/esm2_t36_3B_UR50D`)\n",
    "* The model class (`ESM2nvModel`)"
   ]
  },
  {
   "cell_type": "code",
   "execution_count": null,
   "id": "15661b09-6b79-48a5-8f37-239e03870f08",
   "metadata": {
    "tags": []
   },
   "outputs": [],
   "source": [
    "%%capture --no-display --no-stderr cell_output\n",
    "\n",
    "# Load starting config for ESM2nv inference\n",
    "cfg = load_model_config(config_name = \"infer.yaml\", config_path = config_path)\n",
    "cfg.model.tokenizer.model_name = \"facebook/esm2_t36_3B_UR50D\" # for ESM-2nv 650M, write \"facebook/esm2_t33_650M_UR50D\"\n",
    "cfg.model.downstream_task.restore_from_path = checkpoint_path\n",
    "\n",
    "# Create model object based on desired configuration\n",
    "inferer = ESM1nvInference(cfg, interactive=True)"
   ]
  },
  {
   "cell_type": "markdown",
   "id": "bd90c5d9-4378-4e7f-be5f-ad15db232e6c",
   "metadata": {},
   "source": [
    "### ESM-2nv Inference Functions"
   ]
  },
  {
   "cell_type": "markdown",
   "id": "8bd9227c-0646-4fee-b2cd-7cc524e0b2b2",
   "metadata": {},
   "source": [
    "Note that `inferer` is an object of the `ESM1nvInference` class, which contains the functionalities of `seq_to_hiddens()`, `hiddens_to_embedding()`, and `seq_to_embeddings()`. Because ESM-2nv is BERT-based (encoder-only), `hiddens_to_seq()` functionality is not available.\n",
    "\n",
    "`seq_to_hiddens()`: This function queries the model to fetch the encoder hidden states for the input protein sequences. Along with `hidden_states`, `pad_masks` is returned and contains padding information. Note that the expected input to `seq_to_hiddens()` is a list."
   ]
  },
  {
   "cell_type": "code",
   "execution_count": 6,
   "id": "e390dc05-3dee-4013-916a-ffb76a174408",
   "metadata": {
    "tags": []
   },
   "outputs": [
    {
     "name": "stdout",
     "output_type": "stream",
     "text": [
      "hidden_states.shape=torch.Size([2, 43, 2560])\n",
      "pad_masks.shape=torch.Size([2, 43])\n"
     ]
    }
   ],
   "source": [
    "seqs = [\n",
    "    'MSLKRKNIALIPAAGIGVRFGADKPKQYVEIGSKTVLEHVL', # length: 41\n",
    "    'MIQSQINRNIRLDLADAILLSKAKKDLSFAEIADGTGLA', # length: 39\n",
    "]\n",
    "\n",
    "hidden_states, pad_masks = inferer.seq_to_hiddens(seqs)\n",
    "print(f\"{hidden_states.shape=}\")\n",
    "print(f\"{pad_masks.shape=}\")"
   ]
  },
  {
   "cell_type": "markdown",
   "id": "a4fb51a0-918a-43e4-af21-9d0484e7e028",
   "metadata": {
    "tags": []
   },
   "source": [
    "`hiddens_to_embedding()`: This function converts the hidden states (which are usually the output of each layer in a neural network) into fixed-size vector embeddings. This is done by removing the hidden state vectors corresponding to padding tokens, then averaging across the rest. This process is often used when the goal is to create a single vector representation from the hidden states of a model, which can be used for various sequence-level downstream tasks such as classification (e.g. subcellular localization) or regression (e.g. melting temperature prediction)."
   ]
  },
  {
   "cell_type": "code",
   "execution_count": 7,
   "id": "2bc577fa-32a3-4351-bc6f-60ba8f0df9f0",
   "metadata": {
    "tags": []
   },
   "outputs": [
    {
     "name": "stdout",
     "output_type": "stream",
     "text": [
      "embeddings.shape=torch.Size([2, 2560])\n"
     ]
    }
   ],
   "source": [
    "embeddings = inferer.hiddens_to_embedding(hidden_states = hidden_states, enc_mask = pad_masks)\n",
    "print(f\"{embeddings.shape=}\")"
   ]
  },
  {
   "cell_type": "markdown",
   "id": "6b7fde0c-d8ee-4853-9277-3e7a7c007a34",
   "metadata": {
    "tags": []
   },
   "source": [
    "`seq_to_embeddings()`: This function takes input sequences and directly obtains their embeddings from the model. This is a more end-to-end approach that handles the entire process of converting raw input (like text) into vector embeddings. The key difference is that `hiddens_to_embedding()` works with already processed hidden states, while `seq_to_embeddings()` starts with raw input sequences and produces the final embeddings."
   ]
  },
  {
   "cell_type": "code",
   "execution_count": 8,
   "id": "ce545d3c-3b1a-4922-957b-d6ebdf3a8c2b",
   "metadata": {
    "tags": []
   },
   "outputs": [
    {
     "name": "stdout",
     "output_type": "stream",
     "text": [
      "embeddings.shape=torch.Size([2, 2560])\n"
     ]
    }
   ],
   "source": [
    "embeddings = inferer.seq_to_embeddings(seqs)\n",
    "print(f\"{embeddings.shape=}\")"
   ]
  },
  {
   "cell_type": "markdown",
   "id": "c8a87f61-e753-491c-9e32-fbd699eca723",
   "metadata": {},
   "source": [
    "## Obtaining Model Outputs (Logits and Probabilities)"
   ]
  },
  {
   "cell_type": "markdown",
   "id": "b3bd0f4e-ef89-4245-abbc-06177e3883e8",
   "metadata": {},
   "source": [
    "ESM-2nv was trained with a Masked Language Modeling (MLM) objective. Thus, we are able to mask a position in an amino acid sequence and obtain values for the most probable amino acids at that position, based on the surrounding context. Let's sequentially obtain these values for every position in the sequence."
   ]
  },
  {
   "cell_type": "markdown",
   "id": "f1bfe1de-3f75-46f4-97c1-bef8c68b74e7",
   "metadata": {
    "tags": []
   },
   "source": [
    "### Language Model Head"
   ]
  },
  {
   "cell_type": "markdown",
   "id": "36276ae7-3549-4f20-aba2-4101ddd5ee1f",
   "metadata": {},
   "source": [
    "The model architecture is broken down into two components, the language model (which primarily consists of the input embedding and transformer encoder layers), and the model head. When extracting embeddings, we generally take the outputs of the final layer of the encoder. In our case, the model head is important because it is responsible for generating output predictions. "
   ]
  },
  {
   "cell_type": "code",
   "execution_count": 9,
   "id": "393c10d7-8a2f-48ca-9925-a2659ab434a7",
   "metadata": {
    "tags": []
   },
   "outputs": [
    {
     "data": {
      "text/plain": [
       "BertLMHead(\n",
       "  (dense): Linear(in_features=2560, out_features=2560, bias=True)\n",
       "  (layernorm): MixedFusedLayerNorm(torch.Size([2560]), eps=1e-05, elementwise_affine=True)\n",
       ")"
      ]
     },
     "execution_count": 9,
     "metadata": {},
     "output_type": "execute_result"
    }
   ],
   "source": [
    "inferer.model.model.lm_head"
   ]
  },
  {
   "cell_type": "markdown",
   "id": "787d02d4-e3fc-46a1-937b-ae69abfc00fa",
   "metadata": {
    "tags": []
   },
   "source": [
    "### Tokenizer"
   ]
  },
  {
   "cell_type": "markdown",
   "id": "577bb80f-a20b-4e85-a853-4fa8952bcb40",
   "metadata": {},
   "source": [
    "Let's also check the tokenizer vocabulary, stemming from [HuggingFace](https://huggingface.co/facebook/esm2_t36_3B_UR50D/blob/main/vocab.txt)."
   ]
  },
  {
   "cell_type": "code",
   "execution_count": 10,
   "id": "91baa741-7d22-49b7-ab3c-1124f518fdc7",
   "metadata": {
    "tags": []
   },
   "outputs": [
    {
     "name": "stdout",
     "output_type": "stream",
     "text": [
      "There are 33 unique tokens: ['<cls>', '<pad>', '<eos>', '<unk>', 'L', 'A', 'G', 'V', 'S', 'E', 'R', 'T', 'I', 'D', 'P', 'K', 'Q', 'N', 'F', 'Y', 'M', 'H', 'W', 'C', 'X', 'B', 'U', 'Z', 'O', '.', '-', '<null_1>', '<mask>'].\n"
     ]
    }
   ],
   "source": [
    "tokens = inferer.tokenizer.vocab\n",
    "print(f\"There are {inferer.tokenizer.vocab_size} unique tokens: {tokens}.\")"
   ]
  },
  {
   "cell_type": "markdown",
   "id": "3d4602a6-bae2-42dd-83ce-2a11f84b3c32",
   "metadata": {},
   "source": [
    "Let's set aside the tokens corresponding to the 20 known amino acids."
   ]
  },
  {
   "cell_type": "code",
   "execution_count": 26,
   "id": "fa1699c8-aea7-44e6-b80b-973af016e8bd",
   "metadata": {
    "tags": []
   },
   "outputs": [],
   "source": [
    "aa_tokens = ['L', 'A', 'G', 'V', 'S', 'E', 'R', 'T', 'I', 'D', 'P', 'K', 'Q', 'N', 'F', 'Y', 'M', 'H', 'W', 'C']\n",
    "\n",
    "aa_indices = [i for i, token in enumerate(tokens) if token in aa_tokens]\n",
    "extra_indices = [i for i, token in enumerate(tokens) if token not in aa_tokens]"
   ]
  },
  {
   "cell_type": "markdown",
   "id": "6be55982-1c3d-4874-bd1a-2beb0492be49",
   "metadata": {},
   "source": [
    "### Extract Logits and Probabilities"
   ]
  },
  {
   "cell_type": "markdown",
   "id": "67d09581-e784-4ccc-be88-194c8909068c",
   "metadata": {},
   "source": [
    "By passing the hidden state of an amino acid sequence through the BERT language model head, we can obtain output logits at each position and transform them into probabilities. \n",
    "\n",
    "Checking `type(inferer.model.model.lm_head)` shows that the language model head is a `BertLMHead` object, with source code stemming from within the [NeMo NLP Collection](https://github.com/NVIDIA/NeMo/blob/main/nemo/collections/nlp/models/language_modeling/megatron/bert/bert_model.py). The forward pass of the model head takes in two arguments, a `hidden_states` tensor and `word_embeddings_weight` matrix. The embedding weight matrix has a dimension of 128, with the first 33 positions corresponding to the amino acid vocabulary, followed by 95 paddings."
   ]
  },
  {
   "cell_type": "code",
   "execution_count": 28,
   "id": "7d4fdad3-a66d-4e4b-aae4-8728650271b2",
   "metadata": {
    "tags": []
   },
   "outputs": [],
   "source": [
    "def hidden_states_to_probs(hidden_states, pad_masks):\n",
    "    \n",
    "    # Setup\n",
    "    batch_size = hidden_states.size(0)\n",
    "    logits_list = []\n",
    "    probas_list = []\n",
    "    \n",
    "    # Perform batch inference\n",
    "    lm_out = inferer.model.model.lm_head(hidden_states, inferer.model.model.word_embeddings_weight())\n",
    "\n",
    "    # Sequentially convert LM outputs to logits and then probabilities\n",
    "    for i in range(batch_size):\n",
    "        logits = lm_out[i][pad_masks[i], :inferer.tokenizer.vocab_size]\n",
    "        logits[:, extra_indices] = float('-inf') # force non-amino acid token probabilities to zero\n",
    "        logits_list.append(logits)\n",
    "        probas = torch.softmax(logits, dim=-1).detach().cpu().numpy()\n",
    "        # probas.sum(axis=1) # check that rows sum to 1\n",
    "        probas_list.append(probas)\n",
    "    \n",
    "    return probas_list # optionally also return logits_list"
   ]
  },
  {
   "cell_type": "markdown",
   "id": "e0e3a9c5-7159-49c1-8eec-17d5e22e647a",
   "metadata": {
    "tags": []
   },
   "source": [
    "## Mutant Design through ESM-2nv"
   ]
  },
  {
   "cell_type": "markdown",
   "id": "922d8037-60a0-4276-9c79-df31fe33317c",
   "metadata": {},
   "source": [
    "In this section, we aim to optimize an input protein sequence by introducing single-point mutations that align it more closely with naturally occurring protein variants. These mutants may present properties that enhance the protein's functionality, such as improved stability or increased catalytic activity. By leveraging ESM-2nv's masked language modeling capabilities, we can identify amino acid substitutions with higher likelihood than the wild-type residues. This approach allows us to explore the protein sequence space efficiently, potentially discovering variants with superior characteristics."
   ]
  },
  {
   "cell_type": "markdown",
   "id": "a749c2cd-2c81-4856-8c8a-ab26db2d0524",
   "metadata": {
    "tags": []
   },
   "source": [
    "### Sequential Masking"
   ]
  },
  {
   "cell_type": "markdown",
   "id": "a06291d0-0913-426b-8438-972a19c025c5",
   "metadata": {},
   "source": [
    "Let's take a starting sequence and scan through the positions, iteratively placing a `<mask>` token in place of the existing amino acid at each position. We will then predict probabilities at each masked location. If you only want to analyze substitutions within a predefined portion of the sequence (e.g. a specific alpha helix), you can set `start_pos` and `end_pos` accordingly, below."
   ]
  },
  {
   "cell_type": "code",
   "execution_count": 13,
   "id": "bee9bca9-c818-4bbf-933b-ac3f87a17bbc",
   "metadata": {
    "tags": []
   },
   "outputs": [],
   "source": [
    "seq = 'MSLKRKNIALIPAAGIGVRFGADKPKQYVEIGSKTVLEHVL' # length: 41\n",
    "\n",
    "start_pos = 0\n",
    "end_pos = len(seq)"
   ]
  },
  {
   "cell_type": "code",
   "execution_count": 14,
   "id": "d2aef066-c837-4cc9-ba90-2e095f84898a",
   "metadata": {
    "tags": []
   },
   "outputs": [],
   "source": [
    "positions = np.arange(start_pos, end_pos)\n",
    "\n",
    "sequentially_masked = list()\n",
    "for index in positions:\n",
    "    masked = seq[:index] + \"<mask>\" + seq[index+1:]\n",
    "    sequentially_masked.append(masked)"
   ]
  },
  {
   "cell_type": "markdown",
   "id": "c9f848e2-b458-43e4-884b-227884d94251",
   "metadata": {},
   "source": [
    "Let's look at the first few elements of `sequentially_masked`:"
   ]
  },
  {
   "cell_type": "code",
   "execution_count": 15,
   "id": "ce9f2040-2173-40bb-b853-9165e83bcaeb",
   "metadata": {
    "tags": []
   },
   "outputs": [
    {
     "data": {
      "text/plain": [
       "['<mask>SLKRKNIALIPAAGIGVRFGADKPKQYVEIGSKTVLEHVL',\n",
       " 'M<mask>LKRKNIALIPAAGIGVRFGADKPKQYVEIGSKTVLEHVL',\n",
       " 'MS<mask>KRKNIALIPAAGIGVRFGADKPKQYVEIGSKTVLEHVL',\n",
       " 'MSL<mask>RKNIALIPAAGIGVRFGADKPKQYVEIGSKTVLEHVL',\n",
       " 'MSLK<mask>KNIALIPAAGIGVRFGADKPKQYVEIGSKTVLEHVL']"
      ]
     },
     "execution_count": 15,
     "metadata": {},
     "output_type": "execute_result"
    }
   ],
   "source": [
    "sequentially_masked[:5]"
   ]
  },
  {
   "cell_type": "markdown",
   "id": "ea90286c-2905-4a88-b82e-9b7791d6d81a",
   "metadata": {},
   "source": [
    "### Extraction of Probabilities"
   ]
  },
  {
   "cell_type": "markdown",
   "id": "13265b21-9049-4be6-a940-6b9700826896",
   "metadata": {},
   "source": [
    "We now extract the probability matrix for each element of `sequentially_masked`, which can easily be done based on the `hidden_states_to_probs()` function we defined above. We can then select the probability vectors corresponding to the masked positions, and combine them into a final probability matrix."
   ]
  },
  {
   "cell_type": "code",
   "execution_count": 16,
   "id": "bbf0667c-73b2-41e6-8b5d-0ca5158d98b8",
   "metadata": {
    "tags": []
   },
   "outputs": [
    {
     "name": "stdout",
     "output_type": "stream",
     "text": [
      "masked_seq_hiddens: torch.Size([41, 43, 2560])\n",
      "masked_seq_pads.shape: torch.Size([41, 43])\n",
      "probas_stack: (41, 41, 33)\n",
      "probas_final.shape: (41, 33)\n"
     ]
    }
   ],
   "source": [
    "# Extract probabilities\n",
    "masked_seq_hiddens, masked_seq_pads = inferer.seq_to_hiddens(sequentially_masked)\n",
    "probas_list = hidden_states_to_probs(masked_seq_hiddens, masked_seq_pads) # length of seq\n",
    "print(\"masked_seq_hiddens:\", masked_seq_hiddens.shape); print(\"masked_seq_pads.shape:\", masked_seq_pads.shape)\n",
    "\n",
    "# Select and combine probabilities corresponding to each mask\n",
    "probas_stack = np.stack(probas_list, axis = 0)\n",
    "probas_final = probas_stack[np.arange(probas_stack.shape[0]), positions, :]\n",
    "print(\"probas_stack:\", probas_stack.shape); print(\"probas_final.shape:\", probas_final.shape)"
   ]
  },
  {
   "cell_type": "markdown",
   "id": "5a5212ee-fff3-45ce-8e68-098931875ad5",
   "metadata": {},
   "source": [
    "### Amino Acid Heatmap"
   ]
  },
  {
   "cell_type": "markdown",
   "id": "f77e4da3-9241-4b1b-a014-979897d4fb76",
   "metadata": {},
   "source": [
    "Let's visualize the results. We can plot the predicted probabilities of each token across all positions of interest."
   ]
  },
  {
   "cell_type": "code",
   "execution_count": 17,
   "id": "b1eba3a7-3da9-4cfe-8215-ec7109bfc444",
   "metadata": {
    "tags": []
   },
   "outputs": [
    {
     "data": {
      "image/png": "[encoded data removed]",
      "text/plain": [
       "<Figure size 1100x500 with 2 Axes>"
      ]
     },
     "metadata": {},
     "output_type": "display_data"
    }
   ],
   "source": [
    "# Create heatmap\n",
    "dat = probas_final[:, aa_indices]\n",
    "\n",
    "plt.figure(figsize=(11, 5))\n",
    "im = plt.imshow(dat.T, cmap='viridis', aspect='auto')\n",
    "\n",
    "# Add color scale\n",
    "cbar = plt.colorbar(im)\n",
    "cbar.set_label('Probability', rotation=270, labelpad=15)\n",
    "\n",
    "# Set y-axis labels (amino acid tokens) and x-axis labels (position in sequence)\n",
    "plt.yticks(ticks=np.arange(len(aa_tokens)), labels=aa_tokens)\n",
    "plt.xticks(ticks=np.arange(dat.shape[0]), labels=[str(i) for i in positions])\n",
    "plt.xticks(rotation=45, ha='right')\n",
    "plt.gca().xaxis.set_ticks_position('bottom')\n",
    "\n",
    "# Add axes titles and main title\n",
    "plt.xlabel('Position in Sequence')\n",
    "plt.ylabel('Token Labels')\n",
    "plt.title('Positional Token Probabilities')\n",
    "\n",
    "# Adjust layout to prevent clipping of labels\n",
    "plt.tight_layout()\n",
    "\n",
    "plt.show()"
   ]
  },
  {
   "cell_type": "markdown",
   "id": "dcefa4a8-9172-49d2-b0c6-2f23cac589da",
   "metadata": {
    "tags": []
   },
   "source": [
    "### Mutant Discovery"
   ]
  },
  {
   "cell_type": "markdown",
   "id": "c4d5f74f-afba-4cfc-aa6f-33237911df8a",
   "metadata": {},
   "source": [
    "We can now translate the logits/probabilities back into the sequence space, by mapping the highest probability in each position to the corresponding amino acid. "
   ]
  },
  {
   "cell_type": "code",
   "execution_count": 18,
   "id": "1647b457-91b7-4fc8-925b-ca16a6c4e219",
   "metadata": {
    "tags": []
   },
   "outputs": [],
   "source": [
    "# Predicted seq (Argmax --> Collect token IDs of predicted seq --> Convert to amino acids)\n",
    "pred_idx_list = np.argmax(probas_final, axis=-1).tolist()\n",
    "pred_seq = inferer.tokenizer.ids_to_text(pred_idx_list).replace(\" \", \"\")\n",
    "\n",
    "# Original seq\n",
    "true_idx_list = [inferer.tokenizer.text_to_ids(seq)[i] for i in positions]\n",
    "true_seq = inferer.tokenizer.ids_to_text(true_idx_list).replace(\" \", \"\")"
   ]
  },
  {
   "cell_type": "markdown",
   "id": "a99cf11e-5fae-4521-b16b-7da58f72c897",
   "metadata": {},
   "source": [
    "Let's compare the sequences and visually inspect the positions where a mutant is suggested over the wild-type. Note that the predicted sequence is displayed on the top, and the original sequence is on the bottom."
   ]
  },
  {
   "cell_type": "code",
   "execution_count": 19,
   "id": "07191bcb-9951-40a4-beb9-f2a008a0c91c",
   "metadata": {
    "tags": []
   },
   "outputs": [
    {
     "data": {
      "text/plain": [
       "'MSEENKIIVVIVAAGKGSRMGSDRPKQYLKIGGKTILEHTI (Predicted Sequence)'"
      ]
     },
     "metadata": {},
     "output_type": "display_data"
    },
    {
     "data": {
      "text/plain": [
       "'..|||.|.||.|...|.|.|.|.|....||..|..|...||'"
      ]
     },
     "metadata": {},
     "output_type": "display_data"
    },
    {
     "data": {
      "text/plain": [
       "'MSLKRKNIALIPAAGIGVRFGADKPKQYVEIGSKTVLEHVL (Input Sequence)'"
      ]
     },
     "metadata": {},
     "output_type": "display_data"
    }
   ],
   "source": [
    "# Compare prediction (reconstruction) to true (input sequence)\n",
    "display(pred_seq + \" (Predicted Sequence)\")\n",
    "display(\n",
    "    \"\".join(\n",
    "        [\".\" if a == b else \"|\" for a, b in zip(pred_seq, true_seq)]\n",
    "    )\n",
    ")\n",
    "display(true_seq + \" (Input Sequence)\")"
   ]
  },
  {
   "cell_type": "markdown",
   "id": "0ae76c54-a716-4001-b17c-95588708b31e",
   "metadata": {},
   "source": [
    "Amongst the mismatches, we can:\n",
    "1. Collect all positions where a mutant is suggested over the wild-type amino acid.\n",
    "2. At these positions, find the mutant with the highest probability."
   ]
  },
  {
   "cell_type": "code",
   "execution_count": 20,
   "id": "0710fc32-aa0a-4ae4-9c72-9e1680694fee",
   "metadata": {
    "tags": []
   },
   "outputs": [
    {
     "name": "stdout",
     "output_type": "stream",
     "text": [
      "Position: 32\n",
      "Mutation: S32G\n"
     ]
    }
   ],
   "source": [
    "# Collect indices where a mutant is suggested over the wild-type\n",
    "matches = [c1 == c2 for c1, c2 in zip(pred_seq, true_seq)]\n",
    "mismatch_index = [i for i, value in enumerate(matches) if not value]\n",
    "\n",
    "# Filter probability matrix to mismatches-only\n",
    "probas_mismatch = probas_final[mismatch_index, :]\n",
    "\n",
    "# Find index of mutant with highest likelihood\n",
    "index_flat = np.argmax(probas_mismatch)\n",
    "index_2d = np.unravel_index(index_flat, probas_mismatch.shape)\n",
    "index_of_interest = mismatch_index[index_2d[0]]\n",
    "position_of_interest = positions[index_of_interest]\n",
    "print(\"Position:\", position_of_interest)\n",
    "print(\"Mutation:\", true_seq[position_of_interest] + str(position_of_interest) + pred_seq[position_of_interest])"
   ]
  },
  {
   "cell_type": "markdown",
   "id": "a16739fb-8b1a-4e5e-8d0b-8c3d4cf0a909",
   "metadata": {},
   "source": [
    "Let's check the probability associated to mutations at this position."
   ]
  },
  {
   "cell_type": "code",
   "execution_count": 21,
   "id": "0b0fa3b2-06d4-41e0-80ca-583f5a60e176",
   "metadata": {
    "tags": []
   },
   "outputs": [
    {
     "data": {
      "text/html": [
       "<div>\n",
       "<style scoped>\n",
       "    .dataframe tbody tr th:only-of-type {\n",
       "        vertical-align: middle;\n",
       "    }\n",
       "\n",
       "    .dataframe tbody tr th {\n",
       "        vertical-align: top;\n",
       "    }\n",
       "\n",
       "    .dataframe thead th {\n",
       "        text-align: right;\n",
       "    }\n",
       "</style>\n",
       "<table border=\"1\" class=\"dataframe\">\n",
       "  <thead>\n",
       "    <tr style=\"text-align: right;\">\n",
       "      <th></th>\n",
       "      <th>Token</th>\n",
       "      <th>Token ID</th>\n",
       "      <th>Probability</th>\n",
       "    </tr>\n",
       "  </thead>\n",
       "  <tbody>\n",
       "    <tr>\n",
       "      <th>0</th>\n",
       "      <td>G</td>\n",
       "      <td>6</td>\n",
       "      <td>0.777364</td>\n",
       "    </tr>\n",
       "    <tr>\n",
       "      <th>1</th>\n",
       "      <td>D</td>\n",
       "      <td>13</td>\n",
       "      <td>0.053317</td>\n",
       "    </tr>\n",
       "    <tr>\n",
       "      <th>2</th>\n",
       "      <td>N</td>\n",
       "      <td>17</td>\n",
       "      <td>0.052636</td>\n",
       "    </tr>\n",
       "    <tr>\n",
       "      <th>3</th>\n",
       "      <td>E</td>\n",
       "      <td>9</td>\n",
       "      <td>0.032532</td>\n",
       "    </tr>\n",
       "    <tr>\n",
       "      <th>4</th>\n",
       "      <td>S</td>\n",
       "      <td>8</td>\n",
       "      <td>0.023811</td>\n",
       "    </tr>\n",
       "  </tbody>\n",
       "</table>\n",
       "</div>"
      ],
      "text/plain": [
       "  Token  Token ID  Probability\n",
       "0     G         6     0.777364\n",
       "1     D        13     0.053317\n",
       "2     N        17     0.052636\n",
       "3     E         9     0.032532\n",
       "4     S         8     0.023811"
      ]
     },
     "execution_count": 21,
     "metadata": {},
     "output_type": "execute_result"
    }
   ],
   "source": [
    "# Sort tokens by probability\n",
    "token_ids_sort = sorted(enumerate(probas_final[index_of_interest]), key=lambda x: x[1], reverse=True)\n",
    "tokens_sort = [(inferer.tokenizer.vocab[i], i, p) for i, p in token_ids_sort]\n",
    "\n",
    "tokens_sort_df = pd.DataFrame(tokens_sort, columns=['Token', 'Token ID', 'Probability'])\n",
    "tokens_sort_df.head()"
   ]
  },
  {
   "cell_type": "markdown",
   "id": "f440e535-f259-487d-aeed-416ed29b00ff",
   "metadata": {},
   "source": [
    "It's clear that for this position, the amino acid Glycine (G) has a higher likelihood than the wild-type, Serine (S). In this way, we can use ESM-2nv to design novel mutant candidates for downstream testing.\n",
    "\n",
    "There are many ways that we can engineer candidates from ESM-2nv outputs. We can continue finding the top _n_ single-point mutants, find the top _n_ double- or multi-point mutants, randomly sample over the probability space generated by the input sequence, sample only within certain positions of interest (e.g. known active sites), etc. Through this process, a set of mutants can be developed for further _in silico_ or wet lab testing."
   ]
  }
 ],
 "metadata": {
  "kernelspec": {
   "display_name": "Python 3 (ipykernel)",
   "language": "python",
   "name": "python3"
  },
  "language_info": {
   "codemirror_mode": {
    "name": "ipython",
    "version": 3
   },
   "file_extension": ".py",
   "mimetype": "text/x-python",
   "name": "python",
   "nbconvert_exporter": "python",
   "pygments_lexer": "ipython3",
   "version": "3.10.12"
  }
 },
 "nbformat": 4,
 "nbformat_minor": 5
}
