{
 "cells": [
  {
   "cell_type": "markdown",
   "id": "7d2c2c75-f21c-4dcf-98c8-0bd7bc13e950",
   "metadata": {
    "tags": []
   },
   "source": [
    "## Pretrain, Fine-tune, and Perform Inference with DNABERT for Splice Site Prediction"
   ]
  },
  {
   "cell_type": "markdown",
   "id": "5919be76-71f9-4143-ab48-59ded3ccc10a",
   "metadata": {
    "tags": []
   },
   "source": [
    "<div class=\"alert alert-block alert-info\"> <b>NOTE</b> This notebook was tested on a single RT5880 Ada Generation GPU using BioNeMo Framework v1.8 with an expected runtime of approximately <20 min.</div>"
   ]
  },
  {
   "cell_type": "markdown",
   "id": "fd74dc16-03c2-490e-9eda-008e0f5ef465",
   "metadata": {},
   "source": [
    "### Demo Objectives\n",
    "\n",
    "1. **Preprocess Data**\n",
    "   - **Objective**: Download and prepare genomic data (FASTA and GFF3 files) for training and evaluation.\n",
    "   - **Steps**:\n",
    "     - Download and process FASTA files.\n",
    "     - Extract splice site information from GFF3 files.\n",
    "     - Organize data into train, validation, and test sets.\n",
    "\n",
    "2. **Pretrain DNABERT**\n",
    "   - **Objective**: Pretrain the DNABERT model on the processed genomic data.\n",
    "   - **Steps**:\n",
    "     - Load and preprocess genomic data.\n",
    "     - Configure the DNABERT pretraining environment.\n",
    "     - Execute pretraining and save the model checkpoint.\n",
    "     - Implement further pretraining from a checkpoint. \n",
    "\n",
    "3. **Fine-tune DNABERT for Splice Site Prediction**\n",
    "   - **Objective**: Fine-tune DNABERT for accurate splice site prediction.\n",
    "   - **Steps**:\n",
    "     - Prepare train, validation, and test datasets for the splice site prediction task.\n",
    "     - Load the pretrained model.\n",
    "     - Set up the fine-tuning environment.\n",
    "     - Train on splice site data and evaluate performance.\n"
   ]
  },
  {
   "cell_type": "markdown",
   "id": "c82b4988-9de5-454e-94ef-660e6ca03cbd",
   "metadata": {},
   "source": [
    "### Setup"
   ]
  },
  {
   "cell_type": "markdown",
   "id": "27184bcf-613a-49c2-bc7c-a795e6524d4a",
   "metadata": {},
   "source": [
    "Ensure that you have read through the Getting Started section, can run the BioNeMo Framework docker container, and have configured the NGC Command Line Interface (CLI) within the container. It is assumed that this notebook is being executed from within the container."
   ]
  },
  {
   "cell_type": "markdown",
   "id": "09d9600f-973c-4d1f-a8b9-7a656299d3ef",
   "metadata": {},
   "source": [
    "<div class=\"alert alert-block alert-info\" style=\"padding: 15px; border: 1px solid #cfe2ff; background-color: #e7f3fe; border-radius: 5px;\">\n",
    "    <b>NOTE:</b> Some of the cells below can generate long text output. We're using:\n",
    "    <pre style=\"background-color: #f8f9fa; border: 1px solid #dee2e6; padding: 10px; border-radius: 5px;\">%%capture --no-display --no-stderr cell_output</pre>\n",
    "    to suppress this output. Comment or delete this line in the cells below to restore full output.\n",
    "</div>"
   ]
  },
  {
   "cell_type": "markdown",
   "id": "5f6c8b8d-f04e-41d1-bf20-a39fa187f3ea",
   "metadata": {},
   "source": [
    "### Import and install all required packages"
   ]
  },
  {
   "cell_type": "code",
   "execution_count": 90,
   "id": "58b385af-30ec-40fd-8154-e3d9418a0fad",
   "metadata": {
    "tags": []
   },
   "outputs": [],
   "source": [
    "import os\n",
    "import warnings\n",
    "\n",
    "from bionemo.data.preprocess.dna.preprocess import (\n",
    "    GRCh38Ensembl99FastaResourcePreprocessor,\n",
    "    GRCh38Ensembl99GFF3ResourcePreprocessor\n",
    ")\n",
    "\n",
    "warnings.filterwarnings('ignore')\n",
    "warnings.simplefilter('ignore')"
   ]
  },
  {
   "cell_type": "markdown",
   "id": "07d1c565-1e7b-4a22-9575-ef5c52e20184",
   "metadata": {},
   "source": [
    "### Home Directory"
   ]
  },
  {
   "cell_type": "markdown",
   "id": "e740f030-3882-4114-bfba-cde0d98fa397",
   "metadata": {},
   "source": [
    "Set the home directory as follows:"
   ]
  },
  {
   "cell_type": "code",
   "execution_count": 91,
   "id": "59482bf8-3bd8-4066-aa49-67c4ec947b74",
   "metadata": {
    "tags": []
   },
   "outputs": [],
   "source": [
    "bionemo_home = \"/workspace/bionemo\"\n",
    "os.environ['BIONEMO_HOME'] = bionemo_home\n",
    "os.chdir(bionemo_home)"
   ]
  },
  {
   "cell_type": "markdown",
   "id": "485de5de-0e6a-4576-96e3-cd44567e4230",
   "metadata": {},
   "source": [
    "### Download Model Checkpoints"
   ]
  },
  {
   "cell_type": "markdown",
   "id": "c49aff95-168c-4bbf-90da-571209d21d24",
   "metadata": {},
   "source": [
    "The following code will download the pretrained model dnabert-86M.nemo from the NGC registry. "
   ]
  },
  {
   "cell_type": "code",
   "execution_count": 92,
   "id": "1f8e64f9-379f-4a6b-aa87-77b91c6c6328",
   "metadata": {
    "tags": []
   },
   "outputs": [],
   "source": [
    "# Define the NGC CLI API KEY and ORG for the model download\n",
    "# If these variables are not already set in the container, uncomment below\n",
    "# to define and set with your API KEY and ORG\n",
    "\n",
    "# api_key = <YOUR_API_KEY>\n",
    "# ngc_cli_org = <YOUR_NGC_ORG>\n",
    "# Update the environment variables \n",
    "# os.environ['NGC_CLI_API_KEY'] = api_key\n",
    "# os.environ['NGC_CLI_ORG'] = ngc_cli_org"
   ]
  },
  {
   "cell_type": "code",
   "execution_count": 93,
   "id": "099d34ce-d299-4f3c-bb9a-448ac4451ec7",
   "metadata": {
    "tags": []
   },
   "outputs": [],
   "source": [
    "# Set variables and paths for model and checkpoint\n",
    "model_name = \"dnabert\" \n",
    "model_version = \"dnabert-86M\" \n",
    "actual_checkpoint_name = \"dnabert-86M.nemo\" \n",
    "model_path = os.path.join(bionemo_home, 'models')\n",
    "checkpoint_path = os.path.join(model_path, actual_checkpoint_name)\n",
    "os.environ['MODEL_PATH'] = model_path"
   ]
  },
  {
   "cell_type": "code",
   "execution_count": 94,
   "id": "02d24a2d-e40b-43a7-aa18-ca78536d3fd9",
   "metadata": {
    "tags": []
   },
   "outputs": [],
   "source": [
    "%%capture --no-display --no-stderr cell_output\n",
    "if not os.path.exists(checkpoint_path):\n",
    "    !cd /workspace/bionemo && \\\n",
    "    python download_artifacts.py --model_dir models --models {model_name}\n",
    "else:\n",
    "    print(f\"Model {model_name} already exists at {model_path}.\")"
   ]
  },
  {
   "cell_type": "markdown",
   "id": "87abc2f0-f90b-4285-abf5-1de3ec05be22",
   "metadata": {
    "tags": []
   },
   "source": [
    "#### A Small Note About Config Files and Model Options\n",
    "\n",
    "When working with different variants of DNABERT, such as the regular version or the `xsmall` version, it's important to ensure that the configuration files used for pretraining, fine-tuning, and downstream tasks match the model architecture. If you pretrain using the regular DNABERT, you must use the corresponding configuration file for fine-tuning and other tasks. Conversely, if you opt for the `xsmall` version of DNABERT, make sure to adjust your configuration files accordingly to maintain consistency. The configuration files for these models can be found in the `examples/dna/dnabert/conf/` directory. Mismatched configurations can lead to errors, particularly size mismatches in model layers, as the model architectures differ between variants. For the purposes of this tutorial, we are using the `dnabert_xsmall` config, which makes the tutorial easily executable on a single GPU, as the `dnabert_xsmall` model only has 8.1M parameters compared to the regular DNABert's 86M.   \n"
   ]
  },
  {
   "cell_type": "markdown",
   "id": "aee43299-5e79-491e-8439-a72aef326df1",
   "metadata": {},
   "source": [
    "### 1. Preprocessing data  "
   ]
  },
  {
   "cell_type": "markdown",
   "id": "f0c46ae9-7e9a-4f55-b539-5c6391aaeca8",
   "metadata": {},
   "source": [
    "DNABERT model version dnabert-86M.nemo was pretrained on the GRCh38 human genome assembly downloaded from NCBI. From here, you can perform downstream tasks such as splice site prediction, which will be demonstrated later on in the tutorial."
   ]
  },
  {
   "cell_type": "markdown",
   "id": "ea56a0f1-baaa-48c6-9ece-f647ec27bcb0",
   "metadata": {},
   "source": [
    "This script prepares the data by running the necessary preprocessing steps before you begin training DNABERT on the GRCh38 human genome assembly. The preprocessing steps include downloading the genomic data, chunking the sequences, and organizing the data into structured FASTA/CSV files for easy access during training. The preprocessed data is stored in the specified directory, which will be used in subsequent training and downstream tasks. The script splits the preprocessed genome data into training, validation, and testing sets. The genome data is split by chromosome: chromosomes 1 through 19 are placed in the training set, chromosome 20 is the validation set, and chromosome 21 is the test set."
   ]
  },
  {
   "cell_type": "code",
   "execution_count": 95,
   "id": "653ea00a-bd71-44ce-b71f-be93c0cfd490",
   "metadata": {
    "tags": []
   },
   "outputs": [],
   "source": [
    "%%capture --no-display --no-stderr cell_output\n",
    "processed_pretraining_data = os.path.join(bionemo_home, 'data', 'GRCh38.p13')\n",
    "config_dir = os.path.join(bionemo_home, 'examples', 'dna', 'dnabert', 'conf')\n",
    "\n",
    "# Run the preprocessing step\n",
    "!cd {bionemo_home} && python examples/dna/dnabert/pretrain.py \\\n",
    "  --config-path={config_dir} \\\n",
    "  --config-name=dnabert_xsmall \\\n",
    "  ++do_training=False \\\n",
    "  ++model.data.dataset_path={processed_pretraining_data}"
   ]
  },
  {
   "cell_type": "markdown",
   "id": "2ace965b-4a7b-4f4b-a94a-f11b3f57b273",
   "metadata": {},
   "source": [
    "Now, once we have obtained our preprocessed sequences, we can continue with the pretraining step. "
   ]
  },
  {
   "cell_type": "markdown",
   "id": "2f286ea1-0d57-424c-94b3-379e6505f703",
   "metadata": {},
   "source": [
    "### 2. Pretrain DNABert "
   ]
  },
  {
   "cell_type": "code",
   "execution_count": 96,
   "id": "1bc80f46-885d-49b9-bfa9-c6292941af93",
   "metadata": {
    "tags": []
   },
   "outputs": [],
   "source": [
    "%%capture --no-display --no-stderr cell_output\n",
    "! cd {bionemo_home} && python examples/dna/dnabert/pretrain.py \\\n",
    "  --config-path={config_dir} \\\n",
    "  --config-name=dnabert_xsmall \\\n",
    "  ++trainer.devices=1 \\\n",
    "  ++trainer.max_steps=1 \\\n",
    "  ++trainer.val_check_interval=1 \\\n",
    "  ++model.data.dataset_path={processed_pretraining_data} \\\n",
    "  ++model.data.dataset.train=chr\\\\[1..19\\\\].fna.gz.chunked.fa \\\n",
    "  ++model.data.dataset.val=chr20.fna.gz.chunked.fa \\\n",
    "  ++model.data.dataset.test=chr21.fna.gz.chunked.fa \\\n",
    "  ++exp_manager.create_wandb_logger=false"
   ]
  },
  {
   "cell_type": "markdown",
   "id": "95f650ac-7f54-4540-82d9-82c6cb02956a",
   "metadata": {},
   "source": [
    "### Further pre-training from a checkpoint "
   ]
  },
  {
   "cell_type": "markdown",
   "id": "0bb70c06-b0e3-4733-a2f9-96de4b89e76d",
   "metadata": {},
   "source": [
    "In this section, we will explore how to resume training from a pre-existing checkpoint. The script below demonstrates how to initiate further training using a specific checkpoint, ensuring that your model benefits from all previous training efforts. To continue training the model, you must increase the `max_steps` value, as it retains the previous pretraining metadata and will stop if `max_steps` is already reached. "
   ]
  },
  {
   "cell_type": "code",
   "execution_count": 97,
   "id": "d5eadfe8-9821-40ca-bd86-ce8d5d35506a",
   "metadata": {
    "tags": []
   },
   "outputs": [],
   "source": [
    "%%capture --no-display --no-stderr cell_output\n",
    "# Run the pretraining script with these paths\n",
    "! cd {bionemo_home} && python examples/dna/dnabert/pretrain.py \\\n",
    "  --config-path={config_dir} \\\n",
    "  --config-name=dnabert_xsmall \\\n",
    "  ++do_training=True \\\n",
    "  ++trainer.devices=1 \\\n",
    "  ++trainer.max_steps=2 \\\n",
    "  ++trainer.val_check_interval=1 \\\n",
    "  ++model.data.dataset_path={dataset_dir} \\\n",
    "  ++exp_manager.create_wandb_logger=false \\\n",
    "  ++exp_manager.resume_if_exists=True"
   ]
  },
  {
   "cell_type": "markdown",
   "id": "cbaed5aa-8ad1-43d8-87be-84d287ceb3c1",
   "metadata": {},
   "source": [
    "### 3. Fine-tuning DNABert: Splice site prediction task "
   ]
  },
  {
   "cell_type": "markdown",
   "id": "559956d1-ac5b-436d-be8a-047c219338d1",
   "metadata": {},
   "source": [
    "### Splice-site prediction task "
   ]
  },
  {
   "cell_type": "markdown",
   "id": "975cdd61-bc22-4ff0-9c23-3d63bcc1d6db",
   "metadata": {},
   "source": [
    "In this task, we will utilize the DNABERT model for predicting splice sites within the human genome. Splice sites are critical regions in the DNA sequence where introns are removed, and exons are joined together during gene expression. We will be working with a dataset specifically prepared using the GRCh38Ensembl99FastaResourcePreprocessor, which provides the necessary .fa.gz files containing raw DNA sequences. These files have been preprocessed to create training, validation, and test datasets tailored for the splice site prediction task."
   ]
  },
  {
   "cell_type": "markdown",
   "id": "a4d45d83-3863-4d0d-8855-7549f74c91d8",
   "metadata": {
    "tags": []
   },
   "source": [
    "### Data Format for Splice Site Prediction Task\n",
    "\n",
    "For the splice site prediction task, the data is formatted in CSV files where each row corresponds to a genomic sequence centered around a potential splice site. The key columns in these CSV files include the following:\n",
    "\n",
    "- **`id`**: This column represents a unique identifier for each row in the dataset.\n",
    "- **`coord`**: This column specifies the exact coordinate or position on the chromosome where the splice site is located. The coordinate is typically the center of the sequence window that is being analyzed.\n",
    "- **`kind`**: This column indicates the type of splice site, where:\n",
    "  - `0` = Donor site\n",
    "  - `1` = Acceptor site\n",
    "  - `2` = Negative example (non-splice site region)\n",
    "- **`transcript`**: This column contains detailed transcript information, including the identifier for the transcript and potentially the chromosome number.\n",
    "\n",
    "\n",
    "The sequences themselves are extracted from FASTA files based on the coordinates provided in the CSV and are processed into k-mer representations suitable for input into DNABERT. Each sequence is typically centered on a candidate splice site, allowing the model to learn the characteristics that distinguish true splice sites from non-functional regions.\n"
   ]
  },
  {
   "cell_type": "markdown",
   "id": "5d6ea4c6-74a9-482d-b15b-d8e594640887",
   "metadata": {},
   "source": [
    "After running the preprocessor, the preprocessed data files are moved to their respective directories (train, val, test) to ensure they are correctly organized for the subsequent steps in the pipeline. This ensures that the fine-tuning process have access to the properly formatted and placed data."
   ]
  },
  {
   "cell_type": "markdown",
   "id": "ff9f31d1-883e-4258-b864-f2f998c20681",
   "metadata": {},
   "source": [
    "### Preprocessors Overview\n",
    "\n",
    "The `preprocess.py` file contains multiple classes that handle different types of genomic data, depending on the task and dataset. These preprocessors are designed to handle the retrieval, preparation, and formatting of data required for various types of genomic analyses:\n",
    "\n",
    "1. **GRCh38p13_ResourcePreprocessor**:\n",
    "   - **Description**: This preprocessor is tailored for the GRCh38.p13 human genome assembly, specifically designed to download all primary chromosomes from this version. It handles the preparation of a set of files, ensuring that each chromosome's sequence is correctly retrieved and stored for further genomic analyses.\n",
    "\n",
    "2. **Hg38chromResourcePreprocessor**:\n",
    "   - **Description**: This preprocessor is designed to download the hg38 chromosome sequences from the UCSC Genome Browser. It is closely tied to specific datasets and provides a structured way to obtain and prepare these sequences for downstream analyses.\n",
    "\n",
    "3. **GRCh38Ensembl99FastaResourcePreprocessor**:\n",
    "   - **Description**: This preprocessor is intended for downloading and preparing the FASTA files for the GRCh38 Ensembl release 99. It focuses on retrieving the chromosome sequences in the `.fa.gz` format, ensuring they are correctly formatted for tasks like sequence analysis or prediction.\n",
    "\n",
    "4. **GRCh38Ensembl99GFF3ResourcePreprocessor**:\n",
    "   - **Description**: This preprocessor is used for downloading GFF3 files from Ensembl release 99, which contain annotations and features required for splice site prediction tasks, as utilized in the DNABERT publication. It ensures that the correct genomic annotations are available for these analyses.\n",
    "\n",
    "5. **DNABERTPreprocessorDataClass**:\n",
    "   - **Description**: This class provides a structured way to initialize and configure the DNABERT preprocessing pipeline. It includes necessary configurations like genome directory paths, tokenizer models, and dataset configuration, essential for setting up the DNABERT model's preprocessing phase.\n",
    "\n",
    "6. **CorePromoterResourcePreparer**:\n",
    "   - **Description**: This preprocessor focuses on downloading the necessary files for core promoter prediction. It is tightly coupled with specific datasets, such as those from the HPDnew database, to ensure the correct files are prepared for analyzing promoter regions in the genome.\n",
    "\n",
    "7. **BasenjiDatasetPreprocessor**:\n",
    "   - **Description**: This preprocessor is responsible for downloading the Basenji2 dataset in its original TFRecord format. It then converts the dataset to WebDataset format and reorganizes metadata. This preprocessor is essential for tasks involving the Basenji2 dataset, particularly in genomic prediction models.\n",
    "\n",
    "Each of these preprocessors is designed for a specific type of genomic data or task, ensuring that the data is correctly retrieved, prepared, and formatted for downstream analyses.\n"
   ]
  },
  {
   "cell_type": "code",
   "execution_count": null,
   "id": "63b727cf-8e5f-4559-bbc6-b741947b3b31",
   "metadata": {
    "tags": []
   },
   "outputs": [],
   "source": [
    "%%capture --no-display --no-stderr cell_output\n",
    "# Setting paths\n",
    "fasta_directory = os.path.join(bionemo_home, 'examples/dna/data/splice-site-prediction/GRCh38.ensembl.99')\n",
    "\n",
    "# Instantiating the preprocessor\n",
    "preprocessor = GRCh38Ensembl99FastaResourcePreprocessor(root_directory=bionemo_home, dest_directory=fasta_directory)\n",
    "\n",
    "# Running the preprocessor to download and prepare the dataset\n",
    "downloaded_files = preprocessor.prepare()\n",
    "\n",
    "# Output paths for reference\n",
    "print(\"Downloaded Files:\")\n",
    "for file in downloaded_files:\n",
    "    print(file)"
   ]
  },
  {
   "cell_type": "markdown",
   "id": "269a59da-59ab-434b-8a94-15229a3a3a7f",
   "metadata": {},
   "source": [
    "Now, we need to use the GRCh38Ensembl99GFF3ResourcePreprocessor to generate the train, test, and val .csv files that follow the aforementioned format for the task."
   ]
  },
  {
   "cell_type": "code",
   "execution_count": null,
   "id": "2475c8a9-1832-4ee5-a7d1-935f00205579",
   "metadata": {
    "tags": []
   },
   "outputs": [],
   "source": [
    "%%capture --no-display --no-stderr cell_output\n",
    "finetuning_dataset_dir = os.path.join(bionemo_home, 'examples/dna/data/splice-site-prediction/finetuning_data')\n",
    "\n",
    "# Ensuring the target directory exists\n",
    "os.makedirs(finetuning_dataset_dir, exist_ok=True)\n",
    "\n",
    "# Instantiating the GFF3 preprocessor\n",
    "gff3_preprocessor = GRCh38Ensembl99GFF3ResourcePreprocessor(\n",
    "    root_directory=bionemo_home, \n",
    "    dest_directory=finetuning_dataset_dir  \n",
    ")\n",
    "\n",
    "# Run the preprocessor to download and prepare the dataset (train, val, test CSV files)\n",
    "csv_files = gff3_preprocessor.prepare()\n",
    "\n",
    "print(\"Generated CSV Files:\")\n",
    "for file in csv_files:\n",
    "    print(file)"
   ]
  },
  {
   "cell_type": "markdown",
   "id": "ac094375-69bc-4147-960c-4fe654973b93",
   "metadata": {},
   "source": [
    "#### Running splice site prediction task  "
   ]
  },
  {
   "cell_type": "markdown",
   "id": "97ca57af-a368-4eb3-a604-4bc63d111833",
   "metadata": {},
   "source": [
    "Below, we set up the file paths for the command line arguments. We set `do_prediction=True` in the command line arguments to get a .txt file of predictions that can be used for evaluation purposes."
   ]
  },
  {
   "cell_type": "code",
   "execution_count": 100,
   "id": "42c2bf8a-9d61-4a2a-8020-ae21b161d8d8",
   "metadata": {
    "tags": []
   },
   "outputs": [
    {
     "name": "stdout",
     "output_type": "stream",
     "text": [
      "Config Directory: /workspace/bionemo/examples/dna/dnabert/conf\n",
      "Dataset Directory: /workspace/bionemo/examples/dna/data/splice-site-prediction/finetuning_data\n",
      "Pretrained Model Path: /workspace/bionemo/models/dnabert-86M.nemo\n",
      "Fasta Directory: /workspace/bionemo/examples/dna/data/splice-site-prediction/GRCh38.ensembl.99\n"
     ]
    }
   ],
   "source": [
    "train_file = os.path.join(finetuning_dataset_dir, 'train.csv')\n",
    "val_file = os.path.join(finetuning_dataset_dir, 'val.csv')\n",
    "test_file = os.path.join(finetuning_dataset_dir, 'test.csv')\n",
    "\n",
    "# Print to verify the paths\n",
    "print(\"Config Directory:\", config_dir)\n",
    "print(\"Dataset Directory:\", finetuning_dataset_dir)\n",
    "print(\"Pretrained Model Path:\", checkpoint_path)\n",
    "print(\"Fasta Directory:\", fasta_directory)"
   ]
  },
  {
   "cell_type": "code",
   "execution_count": 101,
   "id": "3d30f0eb-56ab-4b17-adf4-732d0fa29526",
   "metadata": {
    "tags": []
   },
   "outputs": [],
   "source": [
    "%%capture --no-display --no-stderr cell_output\n",
    "! cd {bionemo_home} && python examples/dna/dnabert/downstream_splice_site.py \\\n",
    "  --config-path={config_dir} \\\n",
    "  --config-name=dnabert_config_splice_site \\\n",
    "  ++do_training=True \\\n",
    "  ++do_prediction=True \\\n",
    "  ++trainer.devices=1 \\\n",
    "  ++trainer.max_steps=3 \\\n",
    "  ++trainer.max_epochs=1 \\\n",
    "  ++trainer.val_check_interval=1 \\\n",
    "  ++model.encoder_frozen=False \\\n",
    "  ++model.data.dataset_path={finetuning_dataset_dir} \\\n",
    "  ++model.data.train_file={train_file} \\\n",
    "  ++model.data.val_file={val_file} \\\n",
    "  ++model.data.predict_file={test_file} \\\n",
    "  ++model.restore_encoder_path={checkpoint_path} \\\n",
    "  ++exp_manager.create_wandb_logger=false \\\n",
    "  ++exp_manager.resume_if_exists=False "
   ]
  },
  {
   "cell_type": "markdown",
   "id": "88d29498-6607-45c4-8043-56093c524096",
   "metadata": {},
   "source": [
    "In this demo, we demonstrated how to fine-tune the DNABERT model for the task of splice site prediction. We covered the steps of data preprocessing, model pretraining, and fine-tuning on splice site data. Finally, we generated predictions on a test dataset, which are saved in `results/nemo_experiments/dnabert-splicesite/dnabert-splicesite`. These predictions can be further analyzed or used as a foundation for additional evaluations, depending on the specific needs of your project."
   ]
  }
 ],
 "metadata": {
  "kernelspec": {
   "display_name": "Python 3 (ipykernel)",
   "language": "python",
   "name": "python3"
  },
  "language_info": {
   "codemirror_mode": {
    "name": "ipython",
    "version": 3
   },
   "file_extension": ".py",
   "mimetype": "text/x-python",
   "name": "python",
   "nbconvert_exporter": "python",
   "pygments_lexer": "ipython3",
   "version": "3.10.12"
  }
 },
 "nbformat": 4,
 "nbformat_minor": 5
}
