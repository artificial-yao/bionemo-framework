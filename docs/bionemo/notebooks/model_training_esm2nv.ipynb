{
 "cells": [
  {
   "cell_type": "markdown",
   "id": "eae5c045-bec3-437f-a4e5-b5c39743d5bf",
   "metadata": {},
   "source": [
    "# ESM-2nv: Data Preprocessing and Model Training Using BioNeMo\n",
    "\n",
    "<div class=\"alert alert-block alert-info\">\n",
    "  <b>NOTE:</b> This notebook has been tested on both an A1000 GPU and an A100, and is compatible with BioNeMo Framework v1.6, v1.7 and v1.8. The expected runtime is less than 1 hour on the A1000 and ~3 minutes on the A100.\n",
    "</div>\n",
    "\n",
    "\n",
    "### Demo Objectives\n",
    "The purpose of this tutorial is to provide an example use case for training a BioNeMo large language model using the BioNeMo framework. In this tutorial, you will gain experience in:\n",
    "\n",
    "1. Preprocessing the UniRef50 and UniRef90 data for ESM-2nv.\n",
    "2. Pretraining and continuing training from a checkpoint for ESM-2nv.\n",
    "3. Performing inference with ESM-2nv.\n",
    "\n",
    "### Overview - ESM-2nv Model\n",
    "\n",
    "**ESM-2nv** is based on the public ESM-2 model, which is a BERT architecture trained on millions of protein sequences from the UniProt database. ESM-2nv learns the patterns and dependencies between amino acids that ultimately give rise to a protein’s 2D structure. These can include properties such as alpha helix or beta sheet, as well as cellular location, thermostability, solubility, and other protein properties. For more information, check the [ESM-2nv model card](../models/esm2-nv.md)\n",
    "\n",
    "This ESM-2nv model training example walkthrough will show how to utilize compute resources, download and preprocess datasets, and perform model training on single and multiple nodes.\n",
    "\n",
    "The model was trained on UniRef50 and UniRef90 protein sequences, truncated to a maximum length of 1022 amino acids.\n",
    "\n",
    "### Setup\n",
    "Ensure that you have read through the [Getting Started](../index.md) section, can run the BioNeMo Framework Docker container, and have configured the NGC Command Line Interface (CLI) within the container. It is assumed that this notebook is being executed from within the container. Additionally, this tutorial depends on the [ESM-2nv](../models/esm2-nv.md) model.\n",
    "\n",
    "<div class=\"alert alert-block alert-info\"> <b>NOTE</b> Some of the cells below generate long text output.  We're using <pre>%%capture --no-display --no-stderr cell_output</pre> to suppress this output.  Comment or delete this line in the cells below to restore full output.</div>\n",
    "\n",
    "### Import and install all required packages"
   ]
  },
  {
   "cell_type": "code",
   "execution_count": 1,
   "id": "ca974709",
   "metadata": {},
   "outputs": [],
   "source": [
    "import os\n",
    "import warnings\n",
    "\n",
    "warnings.filterwarnings('ignore')\n",
    "warnings.simplefilter('ignore')"
   ]
  },
  {
   "cell_type": "markdown",
   "id": "311d9dfb-f927-400e-8c8b-af4a0962376f",
   "metadata": {
    "tags": []
   },
   "source": [
    "### Home Directory"
   ]
  },
  {
   "cell_type": "code",
   "execution_count": 2,
   "id": "f2e561ce-d169-4846-bb09-d41b4b2898b5",
   "metadata": {
    "tags": []
   },
   "outputs": [],
   "source": [
    "bionemo_home = \"/workspace/bionemo\"\n",
    "os.environ['BIONEMO_HOME'] = bionemo_home\n",
    "os.chdir(bionemo_home)"
   ]
  },
  {
   "cell_type": "markdown",
   "id": "a2014769-c619-4e1d-8977-9eff1c60ef98",
   "metadata": {
    "tags": []
   },
   "source": [
    "### Download Model Checkpoints\n",
    "\n",
    "The following code will download the pretrained model `esm2nv_650M_converted.nemo` from the NGC registry.\n",
    "\n",
    "In BioNeMo FW, there are numerous ESM models available, including ESM-1nv, ESM-2nv 8M with randomly initialized weights, ESM-2nv fine-tuned for secondary structure downstream prediction tasks with LoRA, ESM-2nv 650M, and ESM-2nv 3B. We also have a configuration file for training ESM-2nv 15B available at `examples/protein/esm2nv/conf/pretrain_esm2_15B.yaml` if needed.\n",
    "\n",
    "For demo purposes, we have chosen to showcase the ESM-2nv 650M model. For more details on the [ESM-1nv](https://docs.nvidia.com/bionemo-framework/latest/models/esm1-nv.html) or [ESM-2nv](https://docs.nvidia.com/bionemo-framework/latest/models/esm2-nv.html), consult the corresponding model cards. To find the model names and checkpoint names, please see the `artifacts_paths.yaml` file."
   ]
  },
  {
   "cell_type": "code",
   "execution_count": 3,
   "id": "c374a53a",
   "metadata": {},
   "outputs": [],
   "source": [
    "# Define the NGC CLI API KEY and ORG for the model download\n",
    "# If these variables are not already set in the container, uncomment below\n",
    "# to define and set with your API KEY and ORG\n",
    "#api_key = <your_api_key>\n",
    "#ngc_cli_org = <ngc_cli_org>\n",
    "# Update the environment variable\n",
    "#os.environ['NGC_CLI_API_KEY'] = api_key\n",
    "#os.environ['NGC_CLI_ORG'] = ngc_cli_org\n",
    "\n",
    "# Set variables and paths for model and checkpoint\n",
    "model_name = \"esm2nv\" # change to esm1nv for ESM1\n",
    "model_version = \"esm2nv_650m\" # change to esm1nv for ESM1\n",
    "actual_checkpoint_name = \"esm2nv_650M_converted.nemo\" #  change to esm1nv.nemo for ESM1\n",
    "model_path = os.path.join(bionemo_home, 'models')\n",
    "checkpoint_path = os.path.join(model_path, actual_checkpoint_name)\n",
    "os.environ['MODEL_PATH'] = model_path"
   ]
  },
  {
   "cell_type": "code",
   "execution_count": 4,
   "id": "298eea1e",
   "metadata": {},
   "outputs": [],
   "source": [
    "%%capture --no-display --no-stderr cell_output\n",
    "if not os.path.exists(checkpoint_path):\n",
    "    !cd /workspace/bionemo && \\\n",
    "    python download_artifacts.py --model_dir models --models {model_version}\n",
    "else:\n",
    "    print(f\"Model {model_version} already exists at {model_path}.\")"
   ]
  },
  {
   "cell_type": "markdown",
   "id": "8f82deaa-2400-4359-ac10-561cb7d712c4",
   "metadata": {},
   "source": [
    "### Preprocess Data for ESM-2nv\n",
    "\n",
    "To briefly showcase the model training capabilities of the BioNeMo Framework, we will use the UniRef50 and UniRef90 datasets to provide a diverse yet non-redundant set of protein sequences. By using both, the model can learn from a wide range of sequence variants while avoiding redundancy. This helps in capturing diverse features and patterns that are relevant for protein function and structure prediction, while also preventing overfitting and improving generalization. For demo purposes, a portion of the sample datasets is located in `${bionemo_home}/examples/tests/test_data/uniref202104_esm2_qc`.\n",
    "\n",
    "The data is stored in a zip file, so run the following command to extract the raw FASTA files and a cluster mapping file:"
   ]
  },
  {
   "cell_type": "code",
   "execution_count": 5,
   "id": "64df3382",
   "metadata": {},
   "outputs": [],
   "source": [
    "%%capture --no-display --no-stderr cell_output\n",
    "# Define the path to the extracted directory\n",
    "datapath_dir = os.path.join(bionemo_home, 'examples/tests/test_data/uniref202104_esm2_qc_test200_val200')\n",
    "\n",
    "# Define the path to the zip file\n",
    "zip_file = f\"{datapath_dir}.zip\"\n",
    "\n",
    "# Check if the directory already exists\n",
    "if not os.path.exists(datapath_dir): \n",
    "    ! unzip {zip_file} -d {bionemo_home}/examples/tests/test_data/\n",
    "else:\n",
    "    pass"
   ]
  },
  {
   "cell_type": "markdown",
   "id": "e13f7494",
   "metadata": {},
   "source": [
    "The `mapping.tsv` file is used to associate protein sequences with their respective clusters. This helps to reduce redundancy, organize data, and evaluate model performance by tracking sequence similarity and ensuring diverse training data."
   ]
  },
  {
   "cell_type": "markdown",
   "id": "e13f7494",
   "metadata": {},
   "source": [
    "The `cluster_mapping.tsv` is used to associate protein sequences with their respective clusters, helping to reduce redundancy, organize data, and evaluate model performance by tracking sequence similarity and ensuring diverse training data."
   ]
  },
  {
   "cell_type": "markdown",
   "id": "e13f7494",
   "metadata": {},
   "source": [
    "The `mapping.tsv` file is used to associate protein sequences with their respective clusters. This helps to reduce redundancy, organize data, and evaluate model performance by tracking sequence similarity and ensuring diverse training data."
   ]
  },
  {
   "cell_type": "code",
   "execution_count": 6,
   "id": "9d69ee05",
   "metadata": {},
   "outputs": [],
   "source": [
    "train_uf50_fasta = os.path.join(bionemo_home, f'{datapath_dir}/uniref50_train_filt.fasta')\n",
    "train_uf90_fasta = os.path.join(bionemo_home, f'{datapath_dir}/ur90_ur50_sampler.fasta')\n",
    "train_cluster_mapping_tsv = os.path.join(bionemo_home, f'{datapath_dir}/mapping.tsv')"
   ]
  },
  {
   "cell_type": "markdown",
   "id": "c34feba3",
   "metadata": {},
   "source": [
    "Using the unzipped contents of this file, we first create the preprocessed `/train`, `/val`, and `/test` folders, organizing protein sequences into batch CSV files. It is important to utilize both datasets if you plan to use ESM-2 as originally created. However, if you use your own data, as demonstrated in [this notebook](./esm2_paratope_finetuning.ipynb), you can opt to use a single data source.\n",
    "\n",
    "The same approach applies to the clustering mapping file. The `ESM2Preprocess` class can handle clustering indirectly as part of the dataset preparation process. It leverages UniRef50 to UniRef90 clustering mappings to organize protein sequences, ensuring that data is appropriately clustered for training and validation.\n",
    "\n",
    "Please note that this script does not perform clustering itself but relies on pre-defined clustering mappings provided in a TSV file format to organize protein sequences. The expected format is a TSV file where the first column represents the cluster ID (FASTA header in UniRef50) and the second column lists the members separated by commas. The members correspond to entries in the UniRef90 FASTA file.\n",
    "\n",
    "The preprocessing steps are:\n",
    "\n",
    "1. Download the dataset from a specified URL or NGC registry.\n",
    "2. Extract and decompress the downloaded data if necessary.\n",
    "3. Index the FASTA file using `pyfastx` to facilitate data access.\n",
    "4. Split the dataset into training, validation, and test sets.\n",
    "5. Convert the FASTA sequences into CSV format, dividing them into multiple files if needed.\n",
    "6. Generate additional files like memmaps or sorted FASTA files if required for specific use cases.\n",
    "\n",
    "For more details about the preprocessing steps, please consult the `.../bionemo/data/preprocess/protein/preprocess.py` file and the documentation found [here](/bionemo/README.md).\n",
    "\n",
    "To preprocess the data defined in the previous cell, use the `pretrain.py` script and set the `do_training` parameter to `False`, as shown below:\n"
   ]
  },
  {
   "cell_type": "code",
   "execution_count": 7,
   "id": "fc36928b",
   "metadata": {},
   "outputs": [],
   "source": [
    "%%capture --no-display --no-stderr cell_output\n",
    "! python examples/protein/esm2nv/pretrain.py \\\n",
    "    --config-path=conf \\\n",
    "    --config-name=pretrain_esm2_650M \\\n",
    "    ++do_training=False \\\n",
    "    ++do_preprocessing=True \\\n",
    "    ++model.data.val_size=500 \\\n",
    "    ++model.data.test_size=100 \\\n",
    "    ++model.data.train.uf50_datapath={train_uf50_fasta} \\\n",
    "    ++model.data.train.uf90_datapath={train_uf90_fasta} \\\n",
    "    ++model.data.train.cluster_mapping_tsv={train_cluster_mapping_tsv} \\\n",
    "    ++model.data.dataset_path={datapath_dir}"
   ]
  },
  {
   "cell_type": "markdown",
   "id": "8a93374a",
   "metadata": {},
   "source": [
    "##### Command Line and YAML Configuration for `pretrain.py`\n",
    "\n",
    "Parameters starting with `--` are passed as command line arguments to `pretrain.py`. Below are examples of such parameters:\n",
    "\n",
    "- **`--config-path`** and **`--config-name`**:  \n",
    "  These specify the folder and the YAML file name for the configuration. The path is relative to `pretrain.py`. For instance:\n",
    "  \n",
    "  - `config-path`: Refers to the configuration folder, e.g., `examples/protein/esm2nv/conf`.\n",
    "  - `config-name`: Refers to the YAML configuration file, e.g., `pretrain_esm2_650M.yaml`.\n",
    "\n",
    "  The full path for the configuration file in this example would be:  \n",
    "  `examples/protein/esm2nv/conf/pretrain_esm2_650M.yaml`.\n",
    "\n",
    "Parameters starting with `++` are configurable within the YAML file. Below are some examples of such parameters found in the `pretrain_esm2_650M.yaml` file, which inherits from `base_config.yaml`:\n",
    "\n",
    "- **`do_training`**:  \n",
    "  Set to `False` if you only want to preprocess the data without initiating training.\n",
    "\n",
    "- **`model.data.val_size`** and **`model.data.test_size`**:  \n",
    "  These specify the sizes of the validation and test datasets, respectively.\n",
    "\n",
    "- **`model.data.train.uf50_datapath`**:  \n",
    "  Specifies the path to the UniRef50 FASTA file.\n",
    "\n",
    "- **`model.data.train.uf90_datapath`**:  \n",
    "  Specifies the path to the UniRef90 FASTA file.\n",
    "\n",
    "- **`model.data.train.cluster_mapping_tsv`**:  \n",
    "  Specifies the path to the mapping file that maps UniRef50 clusters to UniRef90 sequences.\n",
    "\n",
    "- **`model.data.dataset_path`**:  \n",
    "  Specifies the path to the output directory for the preprocessed UniRef50 and UniRef90 data. After processing, the following directories will be created:\n",
    "\n",
    "  - **`uf50`**:  \n",
    "    Contains `train`/`test`/`val` splits, each with files like `x000.csv`.\n",
    "  \n",
    "  - **`uf90`**:  \n",
    "    Contains a folder named `uf90_csvs`, with files like `x000.csv`. Note that there will be no train/test/val splits in this directory, as UniRef90 is only used during training.\n",
    "\n",
    "Changes can also be made directly to the YAML file instead of overwriting arguments through the command line."
   ]
  },
  {
   "cell_type": "markdown",
   "id": "e2260d73",
   "metadata": {},
   "source": [
    "### Pretrain from Scratch\n",
    "\n",
    "Now we will perform pretraining of ESM-2 from scratch using our prepared data and the parameters provided in the `pretrain_esm2_650M.yaml` config file located in the `${bionemo_home}/examples/protein/esm2nv/conf` folder.\n",
    "\n",
    "For the purpose of this demo example, we will shorten the time required for training by setting the following parameters: `++trainer.max_steps=1` and `++val_check_interval=1`. Users can update these parameters by editing the `.yaml` config file or by overriding config arguments at runtime using Hydra, as shown in the example below.\n",
    "\n",
    "- `trainer.devices`: Specifies the number of GPUs to use.\n",
    "- `trainer.max_steps`: Sets the maximum number of training steps.\n",
    "- `trainer.val_check_interval`: Determines how often to run validation.\n",
    "- `trainer.limit_train_batches` and `trainer.limit_val_batches`: Limit the number of batches for training and validation respectively.\n",
    "- `micro_batch_size`: Refers to the number of samples processed in a single forward/backward pass before performing a weight update.\n",
    "\n",
    "Lastly, you can change the configuration used to `pretrain_esm2_8M` if you have hardware constraints."
   ]
  },
  {
   "cell_type": "code",
   "execution_count": 8,
   "id": "e837ef02",
   "metadata": {},
   "outputs": [],
   "source": [
    "%%capture --no-display --no-stderr cell_output\n",
    "! python examples/protein/esm2nv/pretrain.py \\\n",
    "  --config-path=conf \\\n",
    "  --config-name=pretrain_esm2_650M \\\n",
    "  name={model_name}_pretrain \\\n",
    "  ++do_training=True \\\n",
    "  ++model.data.dataset_path={datapath_dir} \\\n",
    "  ++trainer.devices=1 \\\n",
    "  ++model.micro_batch_size=1 \\\n",
    "  ++trainer.max_steps=1 \\\n",
    "  ++trainer.val_check_interval=1 \\\n",
    "  ++exp_manager.create_wandb_logger=False \\\n",
    "  ++trainer.limit_train_batches=1 \\\n",
    "  ++trainer.limit_val_batches=1"
   ]
  },
  {
   "cell_type": "markdown",
   "id": "093d6f4b",
   "metadata": {},
   "source": [
    "As the ESM-2nv model training job is launched, BioNeMo will print out details related to **compute resources**, **model training configuration**, and the **dataset** being used for training. As the job progresses, it will also print various details related to the test/train/validation steps and accuracy metrics at set intervals.\n",
    "\n",
    "Upon completion of the training process, it will print details related to log files, model checkpoints, and so on, which will also be saved in the directory as configured (usually `/result`).\n",
    "\n",
    "Finally, if Weights and Biases logging was enabled (for example, `++exp_manager.create_wandb_logger=True`), you can visualize the model training progress and resulting metrics. The summary will also be printed in the terminal at the end of the training job.\n",
    "\n",
    "### Continue Training from an Existing Checkpoint\n",
    "\n",
    "To continue the pretraining of the foundation model, use the `pretrain.py` script and set `exp_manager.resume_if_exists=True` to load the model weights and previous run's metadata. This configuration also picks up the learning rate from the scheduler at the end of the previous run."
   ]
  },
  {
   "cell_type": "code",
   "execution_count": 9,
   "id": "2b08b0dd",
   "metadata": {},
   "outputs": [],
   "source": [
    "%%capture --no-display --no-stderr cell_output\n",
    "! python examples/protein/esm2nv/pretrain.py \\\n",
    "  --config-path=conf \\\n",
    "  --config-name=pretrain_esm2_650M \\\n",
    "  name={model_name}_continued_training \\\n",
    "  ++do_training=True \\\n",
    "  ++model.data.dataset_path={datapath_dir} \\\n",
    "  ++trainer.devices=1 \\\n",
    "  ++model.micro_batch_size=1 \\\n",
    "  ++trainer.max_steps=1 \\\n",
    "  ++trainer.val_check_interval=1 \\\n",
    "  ++exp_manager.create_wandb_logger=False \\\n",
    "  ++exp_manager.resume_if_exist=True \\\n",
    "  ++trainer.limit_train_batches=1 \\\n",
    "  ++trainer.limit_val_batches=1"
   ]
  },
  {
   "cell_type": "markdown",
   "id": "1655e7e8",
   "metadata": {},
   "source": [
    "If Weights and Biases logging was enabled (for example, `++exp_manager.create_wandb_logger=True`), you can also visualize the model training progress and resulting metrics. The summary will also be printed in the terminal at the end of the training job.\n",
    "\n",
    "In other notebooks, you can explore how to [perform inference on your own data](./esm2_oas_inferencing.ipynb), [cluster such embeddings](/bionemo/docs/bionemo/notebooks/protein-esm2nv-clustering.ipynb), [bring and preprocess your own data for training your own ESM model](/bionemo/docs/bionemo/notebooks/esm2_paratope_finetuning.ipynb), and [finetune existing ESM models](/bionemo/docs/bionemo/notebooks/esm2_FLIP_finetuning.ipynb).\n"
   ]
  }
 ],
 "metadata": {
  "kernelspec": {
   "display_name": "Python 3 (ipykernel)",
   "language": "python",
   "name": "python3"
  },
  "language_info": {
   "codemirror_mode": {
    "name": "ipython",
    "version": 3
   },
   "file_extension": ".py",
   "mimetype": "text/x-python",
   "name": "python",
   "nbconvert_exporter": "python",
   "pygments_lexer": "ipython3",
   "version": "3.10.12"
  }
 },
 "nbformat": 4,
 "nbformat_minor": 5
}
