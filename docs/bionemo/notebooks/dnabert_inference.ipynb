{
 "cells": [
  {
   "cell_type": "markdown",
   "id": "eae5c045-bec3-437f-a4e5-b5c39743d5bf",
   "metadata": {},
   "source": [
    "## Generating and visualizing embeddings with DNABert    "
   ]
  },
  {
   "cell_type": "markdown",
   "id": "750270f2-42e7-4599-8be7-13af1ba00476",
   "metadata": {},
   "source": [
    "<div class=\"alert alert-block alert-info\"> <b>NOTE</b> This notebook was tested on a single RT5880 Ada Generation GPU using BioNeMo Framework v1.8 with an expected runtime of approximately < 20min.</div>"
   ]
  },
  {
   "cell_type": "markdown",
   "id": "65dcfbc5-5c83-406b-873a-175c1c1a154a",
   "metadata": {},
   "source": [
    "### Demo Objectives"
   ]
  },
  {
   "cell_type": "markdown",
   "id": "9277c38c-2827-419b-9512-ddd64087a4e0",
   "metadata": {
    "jp-MarkdownHeadingCollapsed": true,
    "tags": []
   },
   "source": [
    "1. **Setup**\n",
    "    * **Objective:** \n",
    "        * Set up the environment and necessary configurations to run the DNABERT model for inference. This includes loading the required libraries, setting up the BioNeMo environment, and ensuring that the DNABERT model is properly loaded.\n",
    "    * **Steps:**\n",
    "        1. Import required libraries.\n",
    "        2. Set up the BioNeMo home directory.\n",
    "        3. Load the DNABERT model configuration and ensure the model is properly restored from the specified checkpoint.\n",
    "\n",
    "2. **Data Preparation**\n",
    "    * **Objective:** \n",
    "        * Prepare the input dataset for DNABERT inference, including extracting a specific number of sequences of a fixed length from a Mycobacterium tuberculosis genome.\n",
    "    * **Steps:**\n",
    "        1. Download and prepare the Mycobacterium tuberculosis genome data.\n",
    "        2. Extract all available sequences with a length of at least 512 nucleotides.\n",
    "        3. Truncate sequences longer than 512 nucleotides and format them into a CSV file for input into DNABERT.\n",
    "\n",
    "3. **Generating and Visualizing Embeddings, Clustering**\n",
    "    * **Objective:** \n",
    "        * Generate embeddings from the prepared sequences using DNABERT to identify potential patterns in the data.\n",
    "    * **Steps:**\n",
    "        1. Run the DNABERT model to generate embeddings for each of the sequences.\n",
    "        2. Visualize the embeddings in 2D space using Principal Component Analysis (PCA).\n",
    "\n",
    "#### Relevance: \n",
    "\n",
    "Tuberculosis (TB) remains a leading cause of death worldwide, especially in low- and middle-income countries, due to the complex biology of Mycobacterium tuberculosis and its ability to develop drug resistance. The genome assembly ASM19595v2 for Mycobacterium tuberculosis H37Rv, submitted by the Sanger Institute, is a critical reference strain in TB research. This strain is extensively used to study the molecular mechanisms underlying TB infection and drug resistance, making it essential for developing new diagnostic tools, treatments, and vaccines.\n",
    "\n",
    "By generating embeddings from the DNA sequences of this genome, we can capture important features that may be applied in downstream tasks such as identifying potential drug targets, understanding pathogen variability, and improving diagnostics. This demo illustrates the potential of AI-driven approaches in bioinformatics, showing how deep learning models can extract meaningful insights from genomic data to support advancements in TB research and contribute to global health efforts."
   ]
  },
  {
   "cell_type": "markdown",
   "id": "07432049-5633-42eb-8f36-9af805babf11",
   "metadata": {
    "tags": []
   },
   "source": [
    "### 1. Setup"
   ]
  },
  {
   "cell_type": "markdown",
   "id": "304cece3-92f0-414a-bfb8-469e99ff474c",
   "metadata": {
    "tags": []
   },
   "source": [
    "Ensure that you have read through the Getting Started section, can run the BioNeMo Framework docker container, and have configured the NGC Command Line Interface (CLI) within the container. It is assumed that this notebook is being executed from within the container."
   ]
  },
  {
   "cell_type": "markdown",
   "id": "a93a9511-a1e0-4591-9d50-54bdd1192f62",
   "metadata": {},
   "source": [
    "<div class=\"alert alert-block alert-info\" style=\"padding: 15px; border: 1px solid #cfe2ff; background-color: #e7f3fe; border-radius: 5px;\">\n",
    "    <b>NOTE:</b> Some of the cells below can generate long text output. We're using:\n",
    "    <pre style=\"background-color: #f8f9fa; border: 1px solid #dee2e6; padding: 10px; border-radius: 5px;\">%%capture --no-display --no-stderr cell_output</pre>\n",
    "    to suppress this output. Comment or delete this line in the cells below to restore full output.\n",
    "</div>"
   ]
  },
  {
   "cell_type": "markdown",
   "id": "b05a9362",
   "metadata": {},
   "source": [
    "### Import and install all required packages"
   ]
  },
  {
   "cell_type": "code",
   "execution_count": 97,
   "id": "ca974709",
   "metadata": {
    "tags": []
   },
   "outputs": [],
   "source": [
    "import os\n",
    "import pickle\n",
    "import warnings\n",
    "\n",
    "import matplotlib.pyplot as plt\n",
    "import numpy as np\n",
    "import pandas as pd\n",
    "from sklearn.decomposition import PCA\n",
    "from Bio import SeqIO\n",
    "\n",
    "from bionemo.utils.hydra import load_model_config\n",
    "from bionemo.model.dna.dnabert.infer import DNABERTInference\n",
    "\n",
    "warnings.filterwarnings('ignore')\n",
    "warnings.simplefilter('ignore')"
   ]
  },
  {
   "cell_type": "markdown",
   "id": "f5cf8924-a0e9-4322-89e3-335a4e6e1fcd",
   "metadata": {},
   "source": [
    "### Home Directory"
   ]
  },
  {
   "cell_type": "markdown",
   "id": "311d9dfb-f927-400e-8c8b-af4a0962376f",
   "metadata": {
    "tags": []
   },
   "source": [
    "Set the home directory as follows:"
   ]
  },
  {
   "cell_type": "code",
   "execution_count": 98,
   "id": "f2e561ce-d169-4846-bb09-d41b4b2898b5",
   "metadata": {
    "tags": []
   },
   "outputs": [],
   "source": [
    "bionemo_home = \"/workspace/bionemo\"\n",
    "os.environ['BIONEMO_HOME'] = bionemo_home\n",
    "os.chdir(bionemo_home)"
   ]
  },
  {
   "cell_type": "markdown",
   "id": "a2014769-c619-4e1d-8977-9eff1c60ef98",
   "metadata": {
    "tags": []
   },
   "source": [
    "### Download Model Checkpoints"
   ]
  },
  {
   "cell_type": "markdown",
   "id": "0f524c32-c56e-4cc9-b7dd-ea9539bcd556",
   "metadata": {},
   "source": [
    "The following code will download the pretrained model dnabert-86M.nemo from the NGC registry. "
   ]
  },
  {
   "cell_type": "code",
   "execution_count": 99,
   "id": "81b53018-d47a-421a-99d2-f6e1049babfe",
   "metadata": {},
   "outputs": [],
   "source": [
    "# Define the NGC CLI API KEY and ORG for the model download\n",
    "# If these variables are not already set in the container, uncomment below\n",
    "# to define and set with your API KEY and ORG\n",
    "\n",
    "#api_key = <YOUR_API_KEY>\n",
    "#ngc_cli_org = <YOUR_NGC_ORG>\n",
    "# Update the environment variables \n",
    "#os.environ['NGC_CLI_API_KEY'] = api_key\n",
    "#os.environ['NGC_CLI_ORG'] = ngc_cli_org"
   ]
  },
  {
   "cell_type": "code",
   "execution_count": 100,
   "id": "46f4b649-b688-4be5-9c1e-4d389eab9b18",
   "metadata": {},
   "outputs": [],
   "source": [
    "# Set variables and paths for model and checkpoint\n",
    "model_name = \"dnabert\" \n",
    "model_version = \"dnabert-86M\" \n",
    "actual_checkpoint_name = \"dnabert-86M.nemo\" \n",
    "model_path = os.path.join(bionemo_home, 'models')\n",
    "checkpoint_path = os.path.join(model_path, actual_checkpoint_name)\n",
    "os.environ['MODEL_PATH'] = model_path"
   ]
  },
  {
   "cell_type": "code",
   "execution_count": 106,
   "id": "298eea1e",
   "metadata": {
    "tags": []
   },
   "outputs": [],
   "source": [
    "%%capture --no-display --no-stderr cell_output\n",
    "if not os.path.exists(checkpoint_path):\n",
    "    !cd /workspace/bionemo && \\\n",
    "    python download_artifacts.py --model_dir models --models {model_name}\n",
    "else:\n",
    "    print(f\"Model {model_name} already exists at {model_path}.\")"
   ]
  },
  {
   "cell_type": "markdown",
   "id": "8f82deaa-2400-4359-ac10-561cb7d712c4",
   "metadata": {},
   "source": [
    "### 2. Data Preparation"
   ]
  },
  {
   "cell_type": "markdown",
   "id": "139cf38f-4e71-4d24-b59d-8f8a2be9abb2",
   "metadata": {},
   "source": [
    "Next, we need to download the data from the NCBI website and create a BioNeMo compatible data format for inference, which is a CSV file with an `index` column and a column for sequences. For this tutorial, we will be using the genome assembly ASM19595v2 for Mycobacterium tuberculosis H37Rv, which is the NCBI RefSeq assembly GCF_000195955.2. This assembly was submitted by the Sanger Institute on February 1, 2013. As we are not doing training in this demo, we will not need to perform the typical train, validation, and test splits."
   ]
  },
  {
   "cell_type": "markdown",
   "id": "91e699a0-67df-4c20-a354-30ef5d65e594",
   "metadata": {},
   "source": [
    "#### Download the Mycobacterium tuberculosis data from NCBI "
   ]
  },
  {
   "cell_type": "markdown",
   "id": "ea6c7e05-92a0-42b7-a9f1-c25f65dd9e29",
   "metadata": {},
   "source": [
    "First, we need to create a directory for the data that will be used in this tutorial. "
   ]
  },
  {
   "cell_type": "code",
   "execution_count": 102,
   "id": "f98813e5-c27a-4d94-a588-baa915632146",
   "metadata": {
    "tags": []
   },
   "outputs": [
    {
     "name": "stdout",
     "output_type": "stream",
     "text": [
      "The directory already exists: /workspace/bionemo/data/mtb_data\n"
     ]
    }
   ],
   "source": [
    "base_data_dir = os.path.join(bionemo_home, \"data\", \"mtb_data\")\n",
    "\n",
    "# Checking if the directory exists\n",
    "if not os.path.exists(base_data_dir):\n",
    "    os.makedirs(base_data_dir)\n",
    "    print(f\"Created the directory: {base_data_dir}\")\n",
    "else:\n",
    "    print(f\"The directory already exists: {base_data_dir}\")"
   ]
  },
  {
   "cell_type": "markdown",
   "id": "9784e45a-1ab5-4dc5-ad07-881d5896f31f",
   "metadata": {},
   "source": [
    "Download the `datasets` command-line tool from the NCBI website.\n",
    "This tool is essential for efficiently retrieving and processing genomic data.\n",
    "The `datasets` tool is used to download various types of biological data, including genomes, genes, and sequences, directly from NCBI.\n",
    "In this case, we'll use this tool to download the Mycobacterium tuberculosis data from the NCBI database.\n",
    "The data retrieved can include whole genome sequences, annotations, and other relevant biological information,\n",
    "which are critical for further analysis, such as sequence alignment, variant calling, and comparative genomics."
   ]
  },
  {
   "cell_type": "code",
   "execution_count": 103,
   "id": "e1472f53-47d7-4050-9dc0-313f2e666c7e",
   "metadata": {
    "tags": []
   },
   "outputs": [
    {
     "name": "stdout",
     "output_type": "stream",
     "text": [
      "  % Total    % Received % Xferd  Average Speed   Time    Time     Time  Current\n",
      "                                 Dload  Upload   Total   Spent    Left  Speed\n",
      "100 22.0M  100 22.0M    0     0   638k      0  0:00:35  0:00:35 --:--:--  476k\n"
     ]
    }
   ],
   "source": [
    "!curl -o datasets 'https://ftp.ncbi.nlm.nih.gov/pub/datasets/command-line/v2/linux-amd64/datasets'\n",
    "!chmod +x datasets"
   ]
  },
  {
   "cell_type": "code",
   "execution_count": 105,
   "id": "4604cb76-2e4b-4815-aaba-1e29c078ace9",
   "metadata": {
    "tags": []
   },
   "outputs": [],
   "source": [
    "%%capture --no-display --no-stderr cell_output\n",
    "\n",
    "# Downloading the dataset directly to the desired directory and name the zip file\n",
    "!./datasets download genome accession GCF_000195955.2 --include gff3,rna,cds,protein,genome,seq-report --filename {base_data_dir}/ncbi_dataset.zip\n",
    "\n",
    "# Unzipping the file in the correct directory\n",
    "!unzip -o {base_data_dir}/ncbi_dataset.zip -d {base_data_dir}\n",
    "\n",
    "print(f\"Extracted the dataset to: {base_data_dir}\")"
   ]
  },
  {
   "cell_type": "markdown",
   "id": "333afb0f-ab12-4613-8dd0-e52ee9c22c47",
   "metadata": {},
   "source": [
    "#### Checking the number of sequences in the .fna file  "
   ]
  },
  {
   "cell_type": "code",
   "execution_count": 107,
   "id": "6e037281-f946-4ec7-accb-4ff1da4490aa",
   "metadata": {
    "tags": []
   },
   "outputs": [
    {
     "name": "stdout",
     "output_type": "stream",
     "text": [
      "Number of sequences in the file: 3906\n"
     ]
    }
   ],
   "source": [
    "input_fasta = os.path.join(base_data_dir, \"ncbi_dataset\", \"data\", \"GCF_000195955.2\", \"cds_from_genomic.fna\")\n",
    "\n",
    "# Counting the number of sequences in the file\n",
    "num_sequences = sum(1 for _ in SeqIO.parse(input_fasta, \"fasta\"))\n",
    "\n",
    "print(f\"Number of sequences in the file: {num_sequences}\")"
   ]
  },
  {
   "cell_type": "markdown",
   "id": "65d8a364-f4c0-41e2-9edc-366146f6149a",
   "metadata": {},
   "source": [
    "#### Converting fasta file to expected CSV format "
   ]
  },
  {
   "cell_type": "markdown",
   "id": "9c364682-8f52-4de9-ae24-a2bc9b842c55",
   "metadata": {},
   "source": [
    "Now, we need to convert the fasta file of the sequences to a BioNeMo compatible CSV format, which consists of a column for an index and a column containing sequence strings. "
   ]
  },
  {
   "cell_type": "markdown",
   "id": "e75163f5-bcba-40a4-8c22-d8e7a9f16eb6",
   "metadata": {},
   "source": [
    "For DNABERT, the maximum sequence length should be 512 tokens, as the model is based on the BERT architecture, which has this limitation. If any sequences exceed a length of 512 or are less than 512, they need to be truncated to fit within this limit."
   ]
  },
  {
   "cell_type": "code",
   "execution_count": 108,
   "id": "14942dcc-1acc-41e6-bc5c-8012833d44a6",
   "metadata": {
    "tags": []
   },
   "outputs": [],
   "source": [
    "# Output CSV file (renamed to sequences_preprocessed.csv to reflect processing)\n",
    "processed_data_file = os.path.join(base_data_dir, \"sequences_preprocessed.csv\")\n",
    "\n",
    "# Setting the maximum sequence length\n",
    "max_seq_len = 512\n",
    "\n",
    "# Using SeqIO to parse the sequences and truncate them to 512 nucleotides\n",
    "sequence_dict = {}\n",
    "for record in SeqIO.parse(input_fasta, \"fasta\"):\n",
    "    truncated_seq = str(record.seq)[:max_seq_len]\n",
    "    if len(truncated_seq) == max_seq_len:\n",
    "        sequence_dict[record.id] = truncated_seq\n",
    "\n",
    "# Creating a DataFrame with original IDs and truncated sequences\n",
    "df = pd.DataFrame(sequence_dict.items(), columns=['id', 'sequence'])\n",
    "\n",
    "# Saving the DataFrame to a CSV file after processing\n",
    "df.to_csv(processed_data_file, index=False)\n",
    "\n",
    "print(f\"Total number of sequences with length {max_seq_len}: {len(df)}\")"
   ]
  },
  {
   "cell_type": "markdown",
   "id": "ab051481-a3ea-4bd2-a280-863e827af02d",
   "metadata": {},
   "source": [
    "### 3. Generating and Visualizing Embeddings "
   ]
  },
  {
   "cell_type": "markdown",
   "id": "e9727c21-500f-4d63-8c47-a2a2ae5711b4",
   "metadata": {},
   "source": [
    "In this section, we will use the DNABERT model to perform inference on our input sequences. By running inference, we’ll generate embeddings, which are dense vector representations of the sequences. These embeddings capture important features of the sequences and can be used for various downstream tasks such as clustering, visualization, or classification.\n",
    "To give you a comprehensive understanding and flexibility in your workflow, two methods are demonstrated for generating embeddings: using command line arguments and manually calling classes within the code.\n"
   ]
  },
  {
   "cell_type": "code",
   "execution_count": 109,
   "id": "79d38476-f82c-4f79-bdc4-928b5997ea08",
   "metadata": {},
   "outputs": [],
   "source": [
    "model_config_path = os.path.join(bionemo_home, f'examples/dna/dnabert/conf')"
   ]
  },
  {
   "cell_type": "markdown",
   "id": "6f83d43e-821d-4ff1-b312-715e18039731",
   "metadata": {
    "tags": []
   },
   "source": [
    "Method 1: Generating embeddings through command-line arguments. This approach also allows for easy parameter adjustments, such as specifying output formats or paths, which can be particularly useful in large-scale experiments or production environments. Additionally, for DNABERT, note that we can change the precision configuration from the default mixed-precision (16-bit) to full precision (32-bit)."
   ]
  },
  {
   "cell_type": "code",
   "execution_count": 110,
   "id": "88accc85-8ccb-4c64-8fb7-d0ce1cd31a94",
   "metadata": {
    "tags": []
   },
   "outputs": [],
   "source": [
    "output_dir = os.path.join(base_data_dir, \"inference_output\")\n",
    "! mkdir -p {output_dir}\n",
    "inference_results = os.path.join(output_dir, \"dnabert_inference_results.pkl\")"
   ]
  },
  {
   "cell_type": "code",
   "execution_count": 111,
   "id": "1f32f33b-f95c-41cb-a918-6adf7ef086b5",
   "metadata": {
    "tags": []
   },
   "outputs": [],
   "source": [
    "%%capture --no-display --no-stderr cell_output\n",
    "# This environment variable enables full error traces from Hydra, which can help in debugging by providing comprehensive error information.\n",
    "# It's particularly useful when the default error messages are too vague to identify the root cause.\n",
    "# os.environ['HYDRA_FULL_ERROR'] = '1'\n",
    "\n",
    "# Run the inference script\n",
    "! python /workspace/bionemo/bionemo/model/infer.py \\\n",
    "    --config-dir {model_config_path} \\\n",
    "    --config-name infer \\\n",
    "    ++name=DNABERT_Inference \\\n",
    "    ++model.downstream_task.restore_path={checkpoint_path} \\\n",
    "    ++model.data.dataset_path={processed_data_file} \\\n",
    "    ++model.inference_output_file={inference_results} \\\n",
    "    ++model.data.output_fname={inference_results} \\\n",
    "    ++model.downstream_task.outputs=[embeddings] \\\n",
    "    ++trainer.precision=32 \\\n",
    "    ++trainer.devices=1 \\\n",
    "    ++exp_manager.exp_dir={output_dir}"
   ]
  },
  {
   "cell_type": "markdown",
   "id": "dd7557e3-9169-434a-9217-d24a832412ea",
   "metadata": {},
   "source": [
    "Method 2: Generating embeddings by manually calling classes. This method allows for more control over debugging during the embedding generation process.   "
   ]
  },
  {
   "cell_type": "code",
   "execution_count": null,
   "id": "86b707f3-c723-40dc-b844-912c24d52c0e",
   "metadata": {
    "tags": []
   },
   "outputs": [],
   "source": [
    "%%capture --no-display --no-stderr cell_output\n",
    "# Loading the DNABERT model manually \n",
    "cfg = load_model_config(config_name=\"infer.yaml\", config_path=model_config_path)\n",
    "model = DNABERTInference(cfg, interactive=True)\n",
    "model.to('cuda') \n",
    "model.float()  # Ensure model uses float precision\n",
    "\n",
    "# Processing the sequences\n",
    "embeddings = []\n",
    "max_seq_len = 512 \n",
    "\n",
    "for sequence in df['sequence']:\n",
    "    if len(sequence) > max_seq_len:\n",
    "        sequence = sequence[:max_seq_len]\n",
    "    \n",
    "    # Tokenizing and generating embeddings\n",
    "    token_ids = torch.tensor(model.tokenize([sequence]), device=model.model.device).long()\n",
    "    output, _ = model.seq_to_hiddens([sequence])\n",
    "    embedding = output.cpu().detach().numpy().flatten()\n",
    "    \n",
    "    # Storing the embedding\n",
    "    embeddings.append(embedding)\n",
    "\n",
    "# Inspecting the first 5 embeddings\n",
    "for i, embedding in enumerate(embeddings[:5]):\n",
    "    print(f\"Embedding for sequence {i}: Shape {embedding.shape}, First few values: {embedding[:5]}\")\n"
   ]
  },
  {
   "cell_type": "markdown",
   "id": "3f514696-d20a-4f07-84b9-1b0364c0e6be",
   "metadata": {},
   "source": [
    "### Visualizing Embeddings"
   ]
  },
  {
   "cell_type": "markdown",
   "id": "8a094c38-483e-4e04-aba9-6b57d9580aa9",
   "metadata": {},
   "source": [
    "In this section, we visualize the embeddings generated from the DNA sequences using PCA."
   ]
  },
  {
   "cell_type": "code",
   "execution_count": 113,
   "id": "c4e26ecd-eac3-46d3-ae9d-64fa9cb09d3f",
   "metadata": {
    "tags": []
   },
   "outputs": [
    {
     "data": {
      "image/png": "[encoded data removed]",
      "text/plain": [
       "<Figure size 1000x800 with 1 Axes>"
      ]
     },
     "metadata": {},
     "output_type": "display_data"
    }
   ],
   "source": [
    "with open(inference_results, \"rb\") as f:\n",
    "    inference_results_to_plot = pickle.load(f)\n",
    "\n",
    "# Extracting embeddings from each dictionary in the list\n",
    "embeddings = np.array([item['embeddings'] for item in inference_results_to_plot])\n",
    "\n",
    "# Performing PCA for dimensionality reduction\n",
    "pca = PCA(n_components=2)\n",
    "reduced_embeddings = pca.fit_transform(embeddings)\n",
    "\n",
    "# Plotting the results\n",
    "plt.figure(figsize=(10, 8))\n",
    "plt.scatter(reduced_embeddings[:, 0], reduced_embeddings[:, 1], color='b', label=\"Embeddings\")\n",
    "\n",
    "plt.title('2D Visualization of DNA Sequence Embeddings')\n",
    "plt.xlabel('PCA Component 1')\n",
    "plt.ylabel('PCA Component 2')\n",
    "plt.legend()\n",
    "plt.show()\n"
   ]
  },
  {
   "cell_type": "markdown",
   "id": "21547261-6199-4dbc-837a-804b16fb6a2c",
   "metadata": {},
   "source": [
    "In this tutorial, you set up the DNABERT model for inference, prepared a dataset by extracting specific sequences from the Mycobacterium tuberculosis genome, and generated embeddings using DNABERT. These embeddings were then visualized. "
   ]
  }
 ],
 "metadata": {
  "kernelspec": {
   "display_name": "Python 3 (ipykernel)",
   "language": "python",
   "name": "python3"
  }
 },
 "nbformat": 4,
 "nbformat_minor": 5
}
