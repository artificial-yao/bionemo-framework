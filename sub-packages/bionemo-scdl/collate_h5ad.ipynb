{
 "cells": [
  {
   "cell_type": "code",
   "execution_count": 1,
   "metadata": {},
   "outputs": [],
   "source": [
    "from pathlib import Path\n",
    "import anndata as ad\n",
    "import numpy as np\n",
    "import pandas as pd\n",
    "\n",
    "directory_path = \"/workspace/bionemo2/sub-packages/data/cellxgene_2023-12-15_small_input/input_data/train\"\n",
    "directory_path = Path(directory_path)\n",
    "ann_data_paths = sorted(directory_path.rglob(\"*.h5ad\"))"
   ]
  },
  {
   "cell_type": "code",
   "execution_count": 10,
   "metadata": {},
   "outputs": [
    {
     "name": "stdout",
     "output_type": "stream",
     "text": [
      "[AnnData object with n_obs × n_vars = 3204 × 60664\n",
      "    obs: 'soma_joinid', 'dataset_id', 'assay', 'assay_ontology_term_id', 'cell_type', 'cell_type_ontology_term_id', 'development_stage', 'development_stage_ontology_term_id', 'disease', 'disease_ontology_term_id', 'donor_id', 'is_primary_data', 'self_reported_ethnicity', 'self_reported_ethnicity_ontology_term_id', 'sex', 'sex_ontology_term_id', 'suspension_type', 'tissue', 'tissue_ontology_term_id', 'tissue_general', 'tissue_general_ontology_term_id', 'raw_sum', 'nnz', 'raw_mean_nnz', 'raw_variance_nnz', 'n_measured_vars'\n",
      "    var: 'soma_joinid', 'feature_id', 'feature_name', 'feature_length', 'nnz', 'n_measured_obs', AnnData object with n_obs × n_vars = 5000 × 60664\n",
      "    obs: 'soma_joinid', 'dataset_id', 'assay', 'assay_ontology_term_id', 'cell_type', 'cell_type_ontology_term_id', 'development_stage', 'development_stage_ontology_term_id', 'disease', 'disease_ontology_term_id', 'donor_id', 'is_primary_data', 'self_reported_ethnicity', 'self_reported_ethnicity_ontology_term_id', 'sex', 'sex_ontology_term_id', 'suspension_type', 'tissue', 'tissue_ontology_term_id', 'tissue_general', 'tissue_general_ontology_term_id', 'raw_sum', 'nnz', 'raw_mean_nnz', 'raw_variance_nnz', 'n_measured_vars'\n",
      "    var: 'soma_joinid', 'feature_id', 'feature_name', 'feature_length', 'nnz', 'n_measured_obs', AnnData object with n_obs × n_vars = 273 × 60664\n",
      "    obs: 'soma_joinid', 'dataset_id', 'assay', 'assay_ontology_term_id', 'cell_type', 'cell_type_ontology_term_id', 'development_stage', 'development_stage_ontology_term_id', 'disease', 'disease_ontology_term_id', 'donor_id', 'is_primary_data', 'self_reported_ethnicity', 'self_reported_ethnicity_ontology_term_id', 'sex', 'sex_ontology_term_id', 'suspension_type', 'tissue', 'tissue_ontology_term_id', 'tissue_general', 'tissue_general_ontology_term_id', 'raw_sum', 'nnz', 'raw_mean_nnz', 'raw_variance_nnz', 'n_measured_vars'\n",
      "    var: 'soma_joinid', 'feature_id', 'feature_name', 'feature_length', 'nnz', 'n_measured_obs', AnnData object with n_obs × n_vars = 5000 × 60664\n",
      "    obs: 'soma_joinid', 'dataset_id', 'assay', 'assay_ontology_term_id', 'cell_type', 'cell_type_ontology_term_id', 'development_stage', 'development_stage_ontology_term_id', 'disease', 'disease_ontology_term_id', 'donor_id', 'is_primary_data', 'self_reported_ethnicity', 'self_reported_ethnicity_ontology_term_id', 'sex', 'sex_ontology_term_id', 'suspension_type', 'tissue', 'tissue_ontology_term_id', 'tissue_general', 'tissue_general_ontology_term_id', 'raw_sum', 'nnz', 'raw_mean_nnz', 'raw_variance_nnz', 'n_measured_vars'\n",
      "    var: 'soma_joinid', 'feature_id', 'feature_name', 'feature_length', 'nnz', 'n_measured_obs', AnnData object with n_obs × n_vars = 171 × 60664\n",
      "    obs: 'soma_joinid', 'dataset_id', 'assay', 'assay_ontology_term_id', 'cell_type', 'cell_type_ontology_term_id', 'development_stage', 'development_stage_ontology_term_id', 'disease', 'disease_ontology_term_id', 'donor_id', 'is_primary_data', 'self_reported_ethnicity', 'self_reported_ethnicity_ontology_term_id', 'sex', 'sex_ontology_term_id', 'suspension_type', 'tissue', 'tissue_ontology_term_id', 'tissue_general', 'tissue_general_ontology_term_id', 'raw_sum', 'nnz', 'raw_mean_nnz', 'raw_variance_nnz', 'n_measured_vars'\n",
      "    var: 'soma_joinid', 'feature_id', 'feature_name', 'feature_length', 'nnz', 'n_measured_obs', AnnData object with n_obs × n_vars = 1882 × 60664\n",
      "    obs: 'soma_joinid', 'dataset_id', 'assay', 'assay_ontology_term_id', 'cell_type', 'cell_type_ontology_term_id', 'development_stage', 'development_stage_ontology_term_id', 'disease', 'disease_ontology_term_id', 'donor_id', 'is_primary_data', 'self_reported_ethnicity', 'self_reported_ethnicity_ontology_term_id', 'sex', 'sex_ontology_term_id', 'suspension_type', 'tissue', 'tissue_ontology_term_id', 'tissue_general', 'tissue_general_ontology_term_id', 'raw_sum', 'nnz', 'raw_mean_nnz', 'raw_variance_nnz', 'n_measured_vars'\n",
      "    var: 'soma_joinid', 'feature_id', 'feature_name', 'feature_length', 'nnz', 'n_measured_obs', AnnData object with n_obs × n_vars = 5000 × 60664\n",
      "    obs: 'soma_joinid', 'dataset_id', 'assay', 'assay_ontology_term_id', 'cell_type', 'cell_type_ontology_term_id', 'development_stage', 'development_stage_ontology_term_id', 'disease', 'disease_ontology_term_id', 'donor_id', 'is_primary_data', 'self_reported_ethnicity', 'self_reported_ethnicity_ontology_term_id', 'sex', 'sex_ontology_term_id', 'suspension_type', 'tissue', 'tissue_ontology_term_id', 'tissue_general', 'tissue_general_ontology_term_id', 'raw_sum', 'nnz', 'raw_mean_nnz', 'raw_variance_nnz', 'n_measured_vars'\n",
      "    var: 'soma_joinid', 'feature_id', 'feature_name', 'feature_length', 'nnz', 'n_measured_obs', AnnData object with n_obs × n_vars = 3031 × 60664\n",
      "    obs: 'soma_joinid', 'dataset_id', 'assay', 'assay_ontology_term_id', 'cell_type', 'cell_type_ontology_term_id', 'development_stage', 'development_stage_ontology_term_id', 'disease', 'disease_ontology_term_id', 'donor_id', 'is_primary_data', 'self_reported_ethnicity', 'self_reported_ethnicity_ontology_term_id', 'sex', 'sex_ontology_term_id', 'suspension_type', 'tissue', 'tissue_ontology_term_id', 'tissue_general', 'tissue_general_ontology_term_id', 'raw_sum', 'nnz', 'raw_mean_nnz', 'raw_variance_nnz', 'n_measured_vars'\n",
      "    var: 'soma_joinid', 'feature_id', 'feature_name', 'feature_length', 'nnz', 'n_measured_obs', AnnData object with n_obs × n_vars = 5000 × 60664\n",
      "    obs: 'soma_joinid', 'dataset_id', 'assay', 'assay_ontology_term_id', 'cell_type', 'cell_type_ontology_term_id', 'development_stage', 'development_stage_ontology_term_id', 'disease', 'disease_ontology_term_id', 'donor_id', 'is_primary_data', 'self_reported_ethnicity', 'self_reported_ethnicity_ontology_term_id', 'sex', 'sex_ontology_term_id', 'suspension_type', 'tissue', 'tissue_ontology_term_id', 'tissue_general', 'tissue_general_ontology_term_id', 'raw_sum', 'nnz', 'raw_mean_nnz', 'raw_variance_nnz', 'n_measured_vars'\n",
      "    var: 'soma_joinid', 'feature_id', 'feature_name', 'feature_length', 'nnz', 'n_measured_obs', AnnData object with n_obs × n_vars = 2647 × 60664\n",
      "    obs: 'soma_joinid', 'dataset_id', 'assay', 'assay_ontology_term_id', 'cell_type', 'cell_type_ontology_term_id', 'development_stage', 'development_stage_ontology_term_id', 'disease', 'disease_ontology_term_id', 'donor_id', 'is_primary_data', 'self_reported_ethnicity', 'self_reported_ethnicity_ontology_term_id', 'sex', 'sex_ontology_term_id', 'suspension_type', 'tissue', 'tissue_ontology_term_id', 'tissue_general', 'tissue_general_ontology_term_id', 'raw_sum', 'nnz', 'raw_mean_nnz', 'raw_variance_nnz', 'n_measured_vars'\n",
      "    var: 'soma_joinid', 'feature_id', 'feature_name', 'feature_length', 'nnz', 'n_measured_obs']\n",
      "10\n"
     ]
    },
    {
     "name": "stderr",
     "output_type": "stream",
     "text": [
      "/usr/local/lib/python3.10/dist-packages/anndata/_core/anndata.py:1756: UserWarning: Observation names are not unique. To make them unique, call `.obs_names_make_unique`.\n",
      "  utils.warn_names_duplicates(\"obs\")\n"
     ]
    }
   ],
   "source": [
    "adatas = [ad.read_h5ad(file) for file in ann_data_paths]\n",
    "print(adatas)\n",
    "print(len(adatas))\n",
    "merged_adata = ad.concat(adatas, axis=0, join=\"outer\", merge=\"unique\")\n",
    "merged_adata.write(Path(\"/workspace/bionemo2/sub-packages/data/merged_adata.h5ad\"))"
   ]
  },
  {
   "cell_type": "code",
   "execution_count": null,
   "metadata": {},
   "outputs": [],
   "source": [
    "from anndata.experimental import AnnCollection"
   ]
  },
  {
   "cell_type": "code",
   "execution_count": 11,
   "metadata": {},
   "outputs": [
    {
     "data": {
      "text/html": [
       "<div>\n",
       "<style scoped>\n",
       "    .dataframe tbody tr th:only-of-type {\n",
       "        vertical-align: middle;\n",
       "    }\n",
       "\n",
       "    .dataframe tbody tr th {\n",
       "        vertical-align: top;\n",
       "    }\n",
       "\n",
       "    .dataframe thead th {\n",
       "        text-align: right;\n",
       "    }\n",
       "</style>\n",
       "<table border=\"1\" class=\"dataframe\">\n",
       "  <thead>\n",
       "    <tr style=\"text-align: right;\">\n",
       "      <th></th>\n",
       "    </tr>\n",
       "  </thead>\n",
       "  <tbody>\n",
       "    <tr>\n",
       "      <th>0</th>\n",
       "    </tr>\n",
       "    <tr>\n",
       "      <th>1</th>\n",
       "    </tr>\n",
       "    <tr>\n",
       "      <th>2</th>\n",
       "    </tr>\n",
       "    <tr>\n",
       "      <th>3</th>\n",
       "    </tr>\n",
       "    <tr>\n",
       "      <th>4</th>\n",
       "    </tr>\n",
       "    <tr>\n",
       "      <th>...</th>\n",
       "    </tr>\n",
       "    <tr>\n",
       "      <th>60659</th>\n",
       "    </tr>\n",
       "    <tr>\n",
       "      <th>60660</th>\n",
       "    </tr>\n",
       "    <tr>\n",
       "      <th>60661</th>\n",
       "    </tr>\n",
       "    <tr>\n",
       "      <th>60662</th>\n",
       "    </tr>\n",
       "    <tr>\n",
       "      <th>60663</th>\n",
       "    </tr>\n",
       "  </tbody>\n",
       "</table>\n",
       "<p>60664 rows × 0 columns</p>\n",
       "</div>"
      ],
      "text/plain": [
       "Empty DataFrame\n",
       "Columns: []\n",
       "Index: [0, 1, 2, 3, 4, 5, 6, 7, 8, 9, 10, 11, 12, 13, 14, 15, 16, 17, 18, 19, 20, 21, 22, 23, 24, 25, 26, 27, 28, 29, 30, 31, 32, 33, 34, 35, 36, 37, 38, 39, 40, 41, 42, 43, 44, 45, 46, 47, 48, 49, 50, 51, 52, 53, 54, 55, 56, 57, 58, 59, 60, 61, 62, 63, 64, 65, 66, 67, 68, 69, 70, 71, 72, 73, 74, 75, 76, 77, 78, 79, 80, 81, 82, 83, 84, 85, 86, 87, 88, 89, 90, 91, 92, 93, 94, 95, 96, 97, 98, 99, ...]\n",
       "\n",
       "[60664 rows x 0 columns]"
      ]
     },
     "execution_count": 11,
     "metadata": {},
     "output_type": "execute_result"
    }
   ],
   "source": [
    "merged_adata.var"
   ]
  },
  {
   "cell_type": "code",
   "execution_count": 13,
   "metadata": {},
   "outputs": [
    {
     "name": "stderr",
     "output_type": "stream",
     "text": [
      "/usr/local/lib/python3.10/dist-packages/anndata/_core/anndata.py:1756: UserWarning: Observation names are not unique. To make them unique, call `.obs_names_make_unique`.\n",
      "  utils.warn_names_duplicates(\"obs\")\n"
     ]
    },
    {
     "ename": "StopIteration",
     "evalue": "",
     "output_type": "error",
     "traceback": [
      "\u001b[0;31m---------------------------------------------------------------------------\u001b[0m",
      "\u001b[0;31mStopIteration\u001b[0m                             Traceback (most recent call last)",
      "Cell \u001b[0;32mIn[13], line 2\u001b[0m\n\u001b[1;32m      1\u001b[0m \u001b[38;5;28;01mfrom\u001b[39;00m \u001b[38;5;21;01mbionemo\u001b[39;00m\u001b[38;5;21;01m.\u001b[39;00m\u001b[38;5;21;01mscdl\u001b[39;00m\u001b[38;5;21;01m.\u001b[39;00m\u001b[38;5;21;01mio\u001b[39;00m\u001b[38;5;21;01m.\u001b[39;00m\u001b[38;5;21;01msingle_cell_memmap_dataset\u001b[39;00m \u001b[38;5;28;01mimport\u001b[39;00m SingleCellMemMapDataset\n\u001b[0;32m----> 2\u001b[0m dataset \u001b[38;5;241m=\u001b[39m \u001b[43mSingleCellMemMapDataset\u001b[49m\u001b[43m(\u001b[49m\u001b[38;5;124;43m\"\u001b[39;49m\u001b[38;5;124;43m/workspace/bionemo2/sub-packages/data/merged_memmap_train_nonunique\u001b[39;49m\u001b[38;5;124;43m\"\u001b[39;49m\u001b[43m,\u001b[49m\u001b[43m \u001b[49m\u001b[38;5;124;43m\"\u001b[39;49m\u001b[38;5;124;43m/workspace/bionemo2/sub-packages/data/merged_adata_nonunique.h5ad\u001b[39;49m\u001b[38;5;124;43m\"\u001b[39;49m\u001b[43m)\u001b[49m\n",
      "File \u001b[0;32m~/sub-packages/bionemo-scdl/src/bionemo/scdl/io/single_cell_memmap_dataset.py:297\u001b[0m, in \u001b[0;36mSingleCellMemMapDataset.__init__\u001b[0;34m(self, data_path, h5ad_path, num_elements, num_rows, mode, paginated_load_cutoff, load_block_row_size)\u001b[0m\n\u001b[1;32m    295\u001b[0m \u001b[38;5;28;01melif\u001b[39;00m h5ad_path \u001b[38;5;129;01mis\u001b[39;00m \u001b[38;5;129;01mnot\u001b[39;00m \u001b[38;5;28;01mNone\u001b[39;00m:\n\u001b[1;32m    296\u001b[0m     \u001b[38;5;28mself\u001b[39m\u001b[38;5;241m.\u001b[39m__init__obj()\n\u001b[0;32m--> 297\u001b[0m     \u001b[38;5;28;43mself\u001b[39;49m\u001b[38;5;241;43m.\u001b[39;49m\u001b[43mload_h5ad\u001b[49m\u001b[43m(\u001b[49m\u001b[43mh5ad_path\u001b[49m\u001b[43m)\u001b[49m\n\u001b[1;32m    298\u001b[0m \u001b[38;5;28;01melse\u001b[39;00m:\n\u001b[1;32m    299\u001b[0m     \u001b[38;5;28;01mmatch\u001b[39;00m num_rows, num_elements:\n",
      "File \u001b[0;32m~/sub-packages/bionemo-scdl/src/bionemo/scdl/io/single_cell_memmap_dataset.py:621\u001b[0m, in \u001b[0;36mSingleCellMemMapDataset.load_h5ad\u001b[0;34m(self, anndata_path)\u001b[0m\n\u001b[1;32m    617\u001b[0m     features_df, num_rows \u001b[38;5;241m=\u001b[39m \u001b[38;5;28mself\u001b[39m\u001b[38;5;241m.\u001b[39mpaginated_load_h5ad(anndata_path)\n\u001b[1;32m    619\u001b[0m features \u001b[38;5;241m=\u001b[39m {col: np\u001b[38;5;241m.\u001b[39marray(features_df[col]\u001b[38;5;241m.\u001b[39mvalues) \u001b[38;5;28;01mfor\u001b[39;00m col \u001b[38;5;129;01min\u001b[39;00m features_df\u001b[38;5;241m.\u001b[39mcolumns}\n\u001b[1;32m    620\u001b[0m \u001b[38;5;28mself\u001b[39m\u001b[38;5;241m.\u001b[39m_feature_index\u001b[38;5;241m.\u001b[39mappend_features(\n\u001b[0;32m--> 621\u001b[0m     n_obs\u001b[38;5;241m=\u001b[39mnum_rows, features\u001b[38;5;241m=\u001b[39mfeatures, num_genes\u001b[38;5;241m=\u001b[39m\u001b[38;5;28mlen\u001b[39m(features[\u001b[38;5;28;43mnext\u001b[39;49m\u001b[43m(\u001b[49m\u001b[38;5;28;43miter\u001b[39;49m\u001b[43m(\u001b[49m\u001b[43mfeatures\u001b[49m\u001b[38;5;241;43m.\u001b[39;49m\u001b[43mkeys\u001b[49m\u001b[43m(\u001b[49m\u001b[43m)\u001b[49m\u001b[43m)\u001b[49m\u001b[43m)\u001b[49m]), label\u001b[38;5;241m=\u001b[39manndata_path\n\u001b[1;32m    622\u001b[0m )\n\u001b[1;32m    623\u001b[0m \u001b[38;5;28mself\u001b[39m\u001b[38;5;241m.\u001b[39msave()\n",
      "\u001b[0;31mStopIteration\u001b[0m: "
     ]
    }
   ],
   "source": [
    "from bionemo.scdl.io.single_cell_memmap_dataset import SingleCellMemMapDataset\n",
    "dataset = SingleCellMemMapDataset(\"/workspace/bionemo2/sub-packages/data/merged_memmap_train_nonunique\", \"/workspace/bionemo2/sub-packages/data/merged_adata_nonunique.h5ad\")"
   ]
  },
  {
   "cell_type": "code",
   "execution_count": 8,
   "metadata": {},
   "outputs": [
    {
     "data": {
      "text/plain": [
       "((memmap([  1.,   1.,   1.,   1.,   1.,   1.,   1.,   1.,   1.,   1.,   1.,\n",
       "            2.,   1.,   2.,   1.,   1.,   1.,   1.,   1.,   1.,   1.,   1.,\n",
       "            1.,   1.,   1.,   1.,   1.,   3.,   1.,   1.,   1.,   1.,   2.,\n",
       "            3.,   1.,   1.,   1.,   1.,   1.,   1.,   1.,   1.,   1.,   1.,\n",
       "            2.,   1.,   1.,   1.,   1.,   1.,   1.,   1.,   2.,   1.,   1.,\n",
       "            1.,   1.,   1.,   1.,   1.,   1.,   1.,   1.,   1.,   1.,   1.,\n",
       "            2.,   3.,   2.,   2.,   4.,   3.,   4.,   1.,   2.,   1.,   2.,\n",
       "            1.,   1.,   1.,   1.,   1.,   1.,   1.,   1.,   1.,   1.,   1.,\n",
       "            1.,   1.,   2.,   1.,   1.,   1.,   9.,   3.,   3.,   1.,   1.,\n",
       "            1.,   2.,   1.,   1.,   1.,   1.,   1.,   1.,   4.,   1.,   1.,\n",
       "            1.,   1.,   1.,   1.,   1.,   5.,   5.,   2.,   1.,   1.,   1.,\n",
       "            6.,   1.,   1.,   1.,   1.,   2.,   1.,   1.,   2.,   1.,   2.,\n",
       "            1.,   1.,   1.,   1.,   1.,   1.,   1.,   1.,   1.,   1.,   2.,\n",
       "            1.,   1.,   1.,   1.,   1.,   1.,   2.,   1.,   1.,   1.,   3.,\n",
       "            5.,   1.,   1.,   1.,   1.,   1.,   1.,   1.,   1.,   2.,   1.,\n",
       "            1., 145.,   1.,   1.,   1.,   2.,   1.,   1.,   1.,   1.,   1.,\n",
       "            1.,   1.,   1.,   1.,   1.,   1.,   2.,   2.,   3.,   1.,   1.,\n",
       "            1.,   1.,   1.,   1.,   1.,   1.,   1.,   1.,   1.,   1.,   1.,\n",
       "            2.,   1.,   1.,   1.,   1.,   1.,   1.,   3.,   1.,   1.,   1.,\n",
       "            1.,   1.,   1.,   1.,   1.,   1.,   1.,   1.,   1.,   1.,   1.,\n",
       "            1.,   1.,   1.,   1.,   1.,   1.,   1.,   1.,   1.,   1.,   1.,\n",
       "            1.,   1.,   1.,  21.,   9.,   9.,   6.,  15.,  21.,   4.,  10.,\n",
       "            5.,  16.,   8.,  30.,   5.,  10.,   1.,   9.,   2.,   5.,   8.,\n",
       "            5.,  10.,   8.,  13.,  28.,  24.,   4.,   9.,   8.,   2.,   3.,\n",
       "            3.,   2.,   4.,  13.,   1.,  21.,   3.,   5.,   7.,   4.,   3.,\n",
       "            8.,  11.,   2.,   4.,   7.,   8.,  17.,   8.,  11.,   4.,   9.,\n",
       "            8.,   3.,   9.,   4.,   1.,  43.,  12.,  15.,  21.,   6.,   6.,\n",
       "            2.,  13.,   5.,  12.,   2.,   1.,   2.,   1.,   1.,   1.,   2.,\n",
       "            1.,   1.,   1.,   1.,   1.,   1.,   2.,   1.,   1.,   1.,   1.,\n",
       "            1.,   1.,   1.,   1.,   1.,   1.,   2.,   1.,   1.,   1.,   1.,\n",
       "            1.,   1.,   1.,   1.,   1.,   1.,   2.,   1.,   1.,   1.,   1.,\n",
       "            1.,   1.,   1.,   1.,   1.,   2.,   1.,   6.,  25.,   1.,   1.,\n",
       "            3.,   1.,   1.,   1.,   1.,   1.,   1.,   1.,   1.,   1.,   1.,\n",
       "            1.,   1.,   3.,   1.,   1.,   1.,   1.,   1.,   1.,   1.,   1.,\n",
       "            1.,   1.,   1.,   1.,   1.,   1.,   1.,   1.,   2.,   2.,   1.,\n",
       "            1.,   1.,   1.,   1.,   1.,  25.,   1.,   1.,   1.,   1.,   2.,\n",
       "            1.,   2.,   2.,   1.,   1.,   1.,   1.,   2.,   2.,   4.,   1.,\n",
       "            2.,   1.,   1.,   2.,   1.,  24.,  15.,   5.,  11.,   5.,   1.,\n",
       "            1.,   1.,   1.,   1.,   1.,   1.,   1.,   1.], dtype=float32),\n",
       "  memmap([   58,   219,   266,   472,   808,   812,   942,  1073,  1137,\n",
       "           1149,  1185,  1191,  1204,  1258,  1309,  1310,  1359,  1470,\n",
       "           1506,  1548,  1550,  1552,  1553,  1578,  1584,  1585,  1604,\n",
       "           1607,  1638,  1666,  2130,  2141,  2172,  2194,  2214,  2238,\n",
       "           2292,  2324,  2367,  2372,  2474,  2485,  2507,  2598,  2601,\n",
       "           2640,  2737,  2739,  2841,  2890,  3012,  3129,  3130,  3132,\n",
       "           3136,  3140,  3142,  3152,  3425,  3605,  3742,  3746,  3838,\n",
       "           3957,  3983,  4029,  4110,  4149,  4159,  4171,  4175,  4176,\n",
       "           4204,  4212,  4219,  4332,  4335,  4415,  4570,  4590,  4611,\n",
       "           4617,  4648,  4652,  4787,  4822,  4893,  5118,  5138,  5187,\n",
       "           5550,  5641,  5688,  5720,  5732,  5803,  5880,  5910,  5916,\n",
       "           5920,  5924,  5932,  6083,  6099,  6164,  6353,  6741,  6878,\n",
       "           6898,  7007,  7133,  7141,  7159,  7233,  7260,  7393,  7418,\n",
       "           7601,  7813,  7854,  8027,  8028,  8055,  8141,  8268,  8515,\n",
       "           8541,  8548,  8637,  8644,  8788,  8793,  8929,  9012,  9042,\n",
       "           9105,  9191,  9212,  9214,  9228,  9334,  9393,  9576,  9596,\n",
       "           9638, 10002, 10019, 10052, 10158, 10192, 10224, 10255, 10282,\n",
       "          10284, 10285, 10611, 10658, 10774, 10788, 11037, 11097, 11203,\n",
       "          11237, 11298, 12043, 12271, 12596, 12782, 12982, 13031, 15059,\n",
       "          15075, 15157, 15247, 15279, 15334, 15428, 15579, 15742, 15755,\n",
       "          15786, 15833, 15970, 15972, 16002, 16029, 16032, 16052, 16069,\n",
       "          16361, 16385, 16617, 16639, 16662, 16663, 16667, 16675, 17611,\n",
       "          17650, 17674, 17790, 18051, 18058, 18119, 18194, 18225, 18703,\n",
       "          18732, 18733, 18951, 18983, 19028, 19048, 19075, 19214, 19261,\n",
       "          19303, 19309, 19467, 19485, 19502, 19596, 19669, 19833, 19850,\n",
       "          19862, 19864, 19998, 20335, 20408, 21014, 21051, 21315, 21320,\n",
       "          21370, 21371, 21394, 21398, 21440, 21441, 21472, 21476, 21544,\n",
       "          21545, 21559, 21571, 21697, 21717, 21794, 21801, 21820, 21821,\n",
       "          21832, 21835, 21867, 21868, 21883, 21943, 21979, 22001, 22002,\n",
       "          22046, 22047, 22049, 22120, 22121, 22138, 22143, 22175, 22176,\n",
       "          22185, 22219, 22250, 22393, 22411, 22423, 22429, 22445, 22461,\n",
       "          22465, 22485, 22490, 22495, 22496, 22527, 22551, 22557, 22577,\n",
       "          22581, 22592, 22609, 22644, 22645, 22691, 22696, 22748, 22800,\n",
       "          22823, 22828, 22854, 22869, 22876, 22980, 23083, 23090, 23091,\n",
       "          23169, 23330, 23394, 23407, 23499, 23600, 23612, 23617, 23686,\n",
       "          23838, 24140, 24230, 24343, 24874, 24886, 24887, 24890, 25015,\n",
       "          25242, 25337, 25378, 25453, 25573, 25710, 25721, 25793, 25853,\n",
       "          25859, 25873, 25881, 26081, 26166, 26340, 26346, 26432, 26482,\n",
       "          26514, 26557, 26646, 26663, 26696, 26746, 26818, 26823, 26841,\n",
       "          26943, 27049, 27074, 27076, 27322, 27416, 27494, 27545, 27574,\n",
       "          27610, 27711, 27755, 27784, 27840, 27841, 27869, 27887, 27963,\n",
       "          27982, 28122, 28124, 28149, 28217, 28218, 28296, 28466, 28480,\n",
       "          28783, 28800, 28815, 29000, 29047, 29063, 29132, 29295, 29358,\n",
       "          29444, 29741, 29829, 29891, 29942, 29954, 30058, 30098, 30123,\n",
       "          30190, 30193, 30194, 30200, 30265, 30273, 30332, 30333, 30346,\n",
       "          30501, 30636, 30704, 30710, 30768, 30772, 30819, 30822, 30823,\n",
       "          30824, 30825, 30827, 30880, 31027, 31203, 31442, 31483, 39567,\n",
       "          44211, 44539, 44821], dtype=uint32)),\n",
       " None)"
      ]
     },
     "execution_count": 8,
     "metadata": {},
     "output_type": "execute_result"
    }
   ],
   "source": [
    "len(dataset)"
   ]
  },
  {
   "cell_type": "code",
   "execution_count": null,
   "metadata": {},
   "outputs": [],
   "source": []
  }
 ],
 "metadata": {
  "kernelspec": {
   "display_name": "Python 3",
   "language": "python",
   "name": "python3"
  },
  "language_info": {
   "codemirror_mode": {
    "name": "ipython",
    "version": 3
   },
   "file_extension": ".py",
   "mimetype": "text/x-python",
   "name": "python",
   "nbconvert_exporter": "python",
   "pygments_lexer": "ipython3",
   "version": "3.10.12"
  }
 },
 "nbformat": 4,
 "nbformat_minor": 2
}
